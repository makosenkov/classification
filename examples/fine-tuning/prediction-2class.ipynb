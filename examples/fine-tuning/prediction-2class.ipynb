{
 "cells": [
  {
   "cell_type": "code",
   "execution_count": 8,
   "metadata": {},
   "outputs": [
    {
     "name": "stdout",
     "output_type": "stream",
     "text": [
      "[[0.]]\n"
     ]
    }
   ],
   "source": [
    "from tensorflow.keras.models import load_model\n",
    "import cv2\n",
    "import tensorflow as tf\n",
    "import numpy as np\n",
    "import os\n",
    "import tensorflow.keras.preprocessing.image as image\n",
    "from tensorflow.keras import applications\n",
    "\n",
    "model = load_model('/home/user/models/top_tuned/bottleneck_fc_model_2class.h5')\n",
    "\n",
    "model.compile(loss='binary_crossentropy',\n",
    "              optimizer='adam',\n",
    "              metrics=['accuracy'])\n",
    "val_food_dir = '/home/user/Документы/convnets/transfer-learning-keras/dataset/evaluation/food'\n",
    "val_non_food_dir = '/home/user/Документы/convnets/transfer-learning-keras/dataset/evaluation/non-food'\n",
    "\n",
    "img_width, img_height = 224, 224\n",
    "\n",
    "model1 = applications.VGG16(include_top=False, weights='imagenet')\n",
    "\n",
    "img = image.load_img('kasha.jpg', target_size=(img_width, img_height))\n",
    "x = image.img_to_array(img)\n",
    "x = np.expand_dims(x, axis=0)\n",
    "features = model1.predict(x)\n",
    "\n",
    "prediction = model.predict(features)\n",
    "\n",
    "print(prediction)"
   ]
  },
  {
   "cell_type": "code",
   "execution_count": null,
   "metadata": {},
   "outputs": [],
   "source": []
  }
 ],
 "metadata": {
  "kernelspec": {
   "display_name": "Python 3",
   "language": "python",
   "name": "python3"
  },
  "language_info": {
   "codemirror_mode": {
    "name": "ipython",
    "version": 3
   },
   "file_extension": ".py",
   "mimetype": "text/x-python",
   "name": "python",
   "nbconvert_exporter": "python",
   "pygments_lexer": "ipython3",
   "version": "3.7.6"
  }
 },
 "nbformat": 4,
 "nbformat_minor": 2
}

{
 "cells": [
  {
   "cell_type": "code",
   "execution_count": 9,
   "metadata": {
    "pycharm": {
     "is_executing": false
    }
   },
   "outputs": [],
   "source": [
    "from tensorflow.keras import applications\n",
    "from tensorflow.keras.preprocessing.image import ImageDataGenerator\n",
    "from tensorflow.keras import optimizers\n",
    "from tensorflow.keras.models import Sequential\n",
    "from tensorflow.keras.layers import Dropout, Flatten, Dense\n",
    "from tensorflow.keras.layers import Input\n",
    "from tensorflow.keras.models import load_model\n",
    "from tensorflow.keras.models import Model\n",
    "from tensorflow.keras.utils import plot_model\n",
    "from sklearn.metrics import classification_report\n",
    "import matplotlib.pyplot as plt\n",
    "import numpy as np\n",
    "import os\n",
    "import tensorflow as tf"
   ]
  },
  {
   "cell_type": "code",
   "execution_count": 4,
   "metadata": {
    "pycharm": {
     "is_executing": false
    }
   },
   "outputs": [
    {
     "name": "stdout",
     "output_type": "stream",
     "text": [
      "VGG16 model loaded.\n"
     ]
    }
   ],
   "source": [
    "tf.config.threading.set_inter_op_parallelism_threads(6)\n",
    "tf.config.threading.set_intra_op_parallelism_threads(2)\n",
    "\n",
    "# path to the model weights files.\n",
    "weights_path = '/home/user/models/pretrained/vgg16_weights.h5'\n",
    "top_model_weights_path = '/home/user/models/top_tuned/bottleneck_fc_model_2class.h5'\n",
    "# dimensions of our images.\n",
    "img_width, img_height = 224, 224\n",
    "\n",
    "train_data_dir = '/home/user/Документы/convnets/transfer-learning-keras/dataset/training'\n",
    "validation_data_dir = '/home/user/Документы/convnets/transfer-learning-keras/dataset/validation'\n",
    "evaluation_data_dir = '/home/user/Документы/convnets/transfer-learning-keras/dataset/evaluation'\n",
    "nb_train_samples = 3000\n",
    "nb_validation_samples = 1000\n",
    "nb_evaluation_samples = 1000\n",
    "epochs = 10\n",
    "batch_size = 20\n",
    "\n",
    "# build the VGG16 network\n",
    "base_model = applications.VGG16(weights='imagenet', include_top=False, \n",
    "                               input_tensor=Input(shape=(224, 224, 3)))\n",
    "print('VGG16 model loaded.')"
   ]
  },
  {
   "cell_type": "code",
   "execution_count": 5,
   "metadata": {
    "pycharm": {
     "is_executing": false,
     "name": "#%%\n"
    }
   },
   "outputs": [
    {
     "name": "stdout",
     "output_type": "stream",
     "text": [
      "<tensorflow.python.keras.engine.input_layer.InputLayer object at 0x7f45bc2b58d0>: False\n",
      "<tensorflow.python.keras.layers.convolutional.Conv2D object at 0x7f45bc323d50>: False\n",
      "<tensorflow.python.keras.layers.convolutional.Conv2D object at 0x7f45bc2b5f10>: False\n",
      "<tensorflow.python.keras.layers.pooling.MaxPooling2D object at 0x7f45bc2bf2d0>: False\n",
      "<tensorflow.python.keras.layers.convolutional.Conv2D object at 0x7f45bc2c4990>: False\n",
      "<tensorflow.python.keras.layers.convolutional.Conv2D object at 0x7f45bc2d25d0>: False\n",
      "<tensorflow.python.keras.layers.pooling.MaxPooling2D object at 0x7f45bc2e20d0>: False\n",
      "<tensorflow.python.keras.layers.convolutional.Conv2D object at 0x7f45bc2e8e90>: False\n",
      "<tensorflow.python.keras.layers.convolutional.Conv2D object at 0x7f45bc276450>: False\n",
      "<tensorflow.python.keras.layers.convolutional.Conv2D object at 0x7f45bc280750>: False\n",
      "<tensorflow.python.keras.layers.pooling.MaxPooling2D object at 0x7f45bc292650>: False\n",
      "<tensorflow.python.keras.layers.convolutional.Conv2D object at 0x7f45bc29f2d0>: False\n",
      "<tensorflow.python.keras.layers.convolutional.Conv2D object at 0x7f45bc2a5bd0>: False\n",
      "<tensorflow.python.keras.layers.convolutional.Conv2D object at 0x7f45bc1f6a90>: False\n",
      "<tensorflow.python.keras.layers.pooling.MaxPooling2D object at 0x7f45bc209590>: False\n",
      "<tensorflow.python.keras.layers.convolutional.Conv2D object at 0x7f45bc20f390>: False\n",
      "<tensorflow.python.keras.layers.convolutional.Conv2D object at 0x7f45bc21c990>: False\n",
      "<tensorflow.python.keras.layers.convolutional.Conv2D object at 0x7f45bc1ae550>: False\n",
      "<tensorflow.python.keras.layers.pooling.MaxPooling2D object at 0x7f45bc1c0090>: False\n",
      "<tensorflow.python.keras.layers.core.Flatten object at 0x7f45bc194510>: True\n",
      "<tensorflow.python.keras.layers.core.Dense object at 0x7f45bc18dcd0>: True\n",
      "<tensorflow.python.keras.layers.core.Dropout object at 0x7f45bc18db10>: True\n",
      "<tensorflow.python.keras.layers.core.Dense object at 0x7f45bc18dd10>: True\n"
     ]
    }
   ],
   "source": [
    "# build a classifier model to put on top of the convolutional model\n",
    "top_model = base_model.output\n",
    "top_model = Flatten(name='flatten')(top_model)\n",
    "top_model = Dense(512, activation='relu')(top_model)\n",
    "top_model = Dropout(0.5)(top_model)\n",
    "top_model = Dense(1, activation='sigmoid')(top_model)\n",
    "\n",
    "# note that it is necessary to start with a fully-trained\n",
    "# classifier, including the top classifier,\n",
    "# in order to successfully do fine-tuning\n",
    "\n",
    "# add the model on top of the convolutional base\n",
    "model = Model(inputs=base_model.input, outputs=top_model)\n",
    "\n",
    "# set the first 15 layers (up to the last conv block)\n",
    "# to non-trainable (weights will not be updated)\n",
    "for layer in base_model.layers:\n",
    "    layer.trainable = False\n",
    "for layer in model.layers:\n",
    "    print(\"{}: {}\".format(layer, layer.trainable))"
   ]
  },
  {
   "cell_type": "code",
   "execution_count": 6,
   "metadata": {
    "pycharm": {
     "name": "#%%\n"
    }
   },
   "outputs": [
    {
     "name": "stdout",
     "output_type": "stream",
     "text": [
      "Found 3000 images belonging to 2 classes.\n",
      "Found 1000 images belonging to 2 classes.\n",
      "Found 1000 images belonging to 2 classes.\n",
      "[INFO] training head...\n",
      "Epoch 1/10\n",
      "149/150 [============================>.] - ETA: 1s - loss: 2.2380 - acc: 0.8513Epoch 1/10\n",
      "150/150 [==============================] - 287s 2s/step - loss: 2.2250 - acc: 0.8520 - val_loss: 0.4303 - val_acc: 0.9630\n",
      "Epoch 2/10\n",
      "149/150 [============================>.] - ETA: 1s - loss: 0.7244 - acc: 0.9101Epoch 1/10\n",
      "150/150 [==============================] - 287s 2s/step - loss: 0.7219 - acc: 0.9100 - val_loss: 0.3328 - val_acc: 0.9600\n",
      "Epoch 3/10\n",
      "149/150 [============================>.] - ETA: 1s - loss: 0.4291 - acc: 0.9228Epoch 1/10\n",
      "150/150 [==============================] - 280s 2s/step - loss: 0.4309 - acc: 0.9227 - val_loss: 0.2112 - val_acc: 0.9570\n",
      "Epoch 4/10\n",
      "149/150 [============================>.] - ETA: 1s - loss: 0.3319 - acc: 0.9272Epoch 1/10\n",
      "150/150 [==============================] - 278s 2s/step - loss: 0.3303 - acc: 0.9273 - val_loss: 0.1986 - val_acc: 0.9600\n",
      "Epoch 5/10\n",
      "149/150 [============================>.] - ETA: 1s - loss: 0.2206 - acc: 0.9359Epoch 1/10\n",
      "150/150 [==============================] - 273s 2s/step - loss: 0.2200 - acc: 0.9357 - val_loss: 0.1703 - val_acc: 0.9610\n",
      "Epoch 6/10\n",
      "149/150 [============================>.] - ETA: 1s - loss: 0.2049 - acc: 0.9393Epoch 1/10\n",
      "150/150 [==============================] - 283s 2s/step - loss: 0.2095 - acc: 0.9390 - val_loss: 0.1706 - val_acc: 0.9590\n",
      "Epoch 7/10\n",
      "149/150 [============================>.] - ETA: 1s - loss: 0.2010 - acc: 0.9366Epoch 1/10\n",
      "150/150 [==============================] - 284s 2s/step - loss: 0.2002 - acc: 0.9363 - val_loss: 0.1454 - val_acc: 0.9580\n",
      "Epoch 8/10\n",
      "149/150 [============================>.] - ETA: 1s - loss: 0.2130 - acc: 0.9329Epoch 1/10\n",
      "150/150 [==============================] - 282s 2s/step - loss: 0.2126 - acc: 0.9327 - val_loss: 0.1459 - val_acc: 0.9600\n",
      "Epoch 9/10\n",
      "149/150 [============================>.] - ETA: 1s - loss: 0.1776 - acc: 0.9433Epoch 1/10\n",
      "150/150 [==============================] - 285s 2s/step - loss: 0.1770 - acc: 0.9433 - val_loss: 0.1499 - val_acc: 0.9580\n",
      "Epoch 10/10\n",
      "149/150 [============================>.] - ETA: 1s - loss: 0.1754 - acc: 0.9409Epoch 1/10\n",
      "150/150 [==============================] - 279s 2s/step - loss: 0.1754 - acc: 0.9410 - val_loss: 0.1452 - val_acc: 0.9580\n"
     ]
    }
   ],
   "source": [
    "# compile the model with a SGD/momentum optimizer\n",
    "# and a very slow learning rate.\n",
    "model.compile(loss='binary_crossentropy',\n",
    "              optimizer=optimizers.SGD(lr=1e-4, momentum=0.9),\n",
    "              metrics=['accuracy'])\n",
    "\n",
    "# prepare data augmentation configuration\n",
    "train_datagen = ImageDataGenerator(\n",
    "        rotation_range=40,\n",
    "        width_shift_range=0.2,\n",
    "        height_shift_range=0.2,\n",
    "        shear_range=0.2,\n",
    "        zoom_range=0.2,\n",
    "        horizontal_flip=True,\n",
    "        fill_mode='nearest'\n",
    ")\n",
    "\n",
    "test_datagen = ImageDataGenerator()\n",
    "mean = np.array([123.68, 116.779, 103.939], dtype=\"float32\")\n",
    "train_datagen.mean = mean\n",
    "test_datagen.mean = mean\n",
    "\n",
    "train_generator = train_datagen.flow_from_directory(\n",
    "    train_data_dir,\n",
    "    color_mode=\"rgb\",\n",
    "    target_size=(img_height, img_width),\n",
    "    batch_size=batch_size,\n",
    "    shuffle=True,\n",
    "    class_mode='binary')\n",
    "\n",
    "validation_generator = test_datagen.flow_from_directory(\n",
    "    validation_data_dir,\n",
    "    color_mode=\"rgb\",\n",
    "    target_size=(img_height, img_width),\n",
    "    batch_size=batch_size,\n",
    "    shuffle=False,\n",
    "    class_mode='binary')\n",
    "\n",
    "test_generator = test_datagen.flow_from_directory(\n",
    "    evaluation_data_dir,\n",
    "    color_mode=\"rgb\",\n",
    "    target_size=(img_height, img_width),\n",
    "    batch_size=batch_size,\n",
    "    shuffle=False,\n",
    "    class_mode='binary')\n",
    "\n",
    "print(\"[INFO] training head...\")\n",
    "H = model.fit_generator(\n",
    "    train_generator,\n",
    "    steps_per_epoch=nb_train_samples // batch_size,\n",
    "    epochs=epochs,\n",
    "    validation_data=validation_generator,\n",
    "    validation_steps=nb_validation_samples // batch_size)"
   ]
  },
  {
   "cell_type": "code",
   "execution_count": 7,
   "metadata": {
    "pycharm": {
     "name": "#%%\n"
    }
   },
   "outputs": [],
   "source": [
    "model.save_weights('/home/user/models/fine_tuned/fine_tuned_2class.h5')"
   ]
  },
  {
   "cell_type": "code",
   "execution_count": 11,
   "metadata": {
    "pycharm": {
     "name": "#%%\n"
    }
   },
   "outputs": [
    {
     "name": "stdout",
     "output_type": "stream",
     "text": [
      "Failed to import pydot. You must install pydot and graphviz for `pydotprint` to work.\n"
     ]
    },
    {
     "data": {
      "image/png": "[encoded data removed]",
      "text/plain": [
       "<Figure size 432x288 with 1 Axes>"
      ]
     },
     "metadata": {
      "needs_background": "light"
     },
     "output_type": "display_data"
    },
    {
     "data": {
      "image/png": "[encoded data removed]",
      "text/plain": [
       "<Figure size 432x288 with 1 Axes>"
      ]
     },
     "metadata": {
      "needs_background": "light"
     },
     "output_type": "display_data"
    }
   ],
   "source": [
    "plot_model(model, to_file='model.png')\n",
    "    # Plot training & validation accuracy values\n",
    "plt.plot(H.history['acc'])\n",
    "plt.plot(H.history['val_acc'])\n",
    "plt.title('Model accuracy')\n",
    "plt.ylabel('Accuracy')\n",
    "plt.xlabel('Epoch')\n",
    "plt.legend(['Train', 'Test'], loc='upper left')\n",
    "plt.show()\n",
    "\n",
    "    # Plot training & validation loss values\n",
    "plt.plot(H.history['loss'])\n",
    "plt.plot(H.history['val_loss'])\n",
    "plt.title('Model loss')\n",
    "plt.ylabel('Loss')\n",
    "plt.xlabel('Epoch')\n",
    "plt.legend(['Train', 'Test'], loc='upper left')\n",
    "plt.show()"
   ]
  },
  {
   "cell_type": "code",
   "execution_count": 13,
   "metadata": {},
   "outputs": [
    {
     "name": "stdout",
     "output_type": "stream",
     "text": [
      "<tensorflow.python.keras.engine.input_layer.InputLayer object at 0x7f45bc2b58d0>: False\n",
      "<tensorflow.python.keras.layers.convolutional.Conv2D object at 0x7f45bc323d50>: False\n",
      "<tensorflow.python.keras.layers.convolutional.Conv2D object at 0x7f45bc2b5f10>: False\n",
      "<tensorflow.python.keras.layers.pooling.MaxPooling2D object at 0x7f45bc2bf2d0>: False\n",
      "<tensorflow.python.keras.layers.convolutional.Conv2D object at 0x7f45bc2c4990>: False\n",
      "<tensorflow.python.keras.layers.convolutional.Conv2D object at 0x7f45bc2d25d0>: False\n",
      "<tensorflow.python.keras.layers.pooling.MaxPooling2D object at 0x7f45bc2e20d0>: False\n",
      "<tensorflow.python.keras.layers.convolutional.Conv2D object at 0x7f45bc2e8e90>: False\n",
      "<tensorflow.python.keras.layers.convolutional.Conv2D object at 0x7f45bc276450>: False\n",
      "<tensorflow.python.keras.layers.convolutional.Conv2D object at 0x7f45bc280750>: False\n",
      "<tensorflow.python.keras.layers.pooling.MaxPooling2D object at 0x7f45bc292650>: False\n",
      "<tensorflow.python.keras.layers.convolutional.Conv2D object at 0x7f45bc29f2d0>: False\n",
      "<tensorflow.python.keras.layers.convolutional.Conv2D object at 0x7f45bc2a5bd0>: False\n",
      "<tensorflow.python.keras.layers.convolutional.Conv2D object at 0x7f45bc1f6a90>: False\n",
      "<tensorflow.python.keras.layers.pooling.MaxPooling2D object at 0x7f45bc209590>: False\n",
      "<tensorflow.python.keras.layers.convolutional.Conv2D object at 0x7f45bc20f390>: True\n",
      "<tensorflow.python.keras.layers.convolutional.Conv2D object at 0x7f45bc21c990>: True\n",
      "<tensorflow.python.keras.layers.convolutional.Conv2D object at 0x7f45bc1ae550>: True\n",
      "<tensorflow.python.keras.layers.pooling.MaxPooling2D object at 0x7f45bc1c0090>: True\n",
      "<tensorflow.python.keras.layers.core.Flatten object at 0x7f45bc194510>: True\n",
      "<tensorflow.python.keras.layers.core.Dense object at 0x7f45bc18dcd0>: True\n",
      "<tensorflow.python.keras.layers.core.Dropout object at 0x7f45bc18db10>: True\n",
      "<tensorflow.python.keras.layers.core.Dense object at 0x7f45bc18dd10>: True\n"
     ]
    }
   ],
   "source": [
    "for layer in base_model.layers[15:]:\n",
    "    layer.trainable = True\n",
    "for layer in model.layers:\n",
    "    print(\"{}: {}\".format(layer, layer.trainable))"
   ]
  },
  {
   "cell_type": "code",
   "execution_count": 16,
   "metadata": {},
   "outputs": [
    {
     "name": "stdout",
     "output_type": "stream",
     "text": [
      "[INFO] re-compiling model...\n",
      "[INFO] training with last conv block...\n",
      "Epoch 1/7\n",
      "149/150 [============================>.] - ETA: 1s - loss: 0.1622 - acc: 0.9470Epoch 1/7\n",
      "150/150 [==============================] - 320s 2s/step - loss: 0.1616 - acc: 0.9470 - val_loss: 0.1243 - val_acc: 0.9650\n",
      "Epoch 2/7\n",
      "149/150 [============================>.] - ETA: 1s - loss: 0.1265 - acc: 0.9591Epoch 1/7\n",
      "150/150 [==============================] - 319s 2s/step - loss: 0.1285 - acc: 0.9580 - val_loss: 0.1283 - val_acc: 0.9650\n",
      "Epoch 3/7\n",
      "149/150 [============================>.] - ETA: 1s - loss: 0.0939 - acc: 0.9654Epoch 1/7\n",
      "150/150 [==============================] - 341s 2s/step - loss: 0.0934 - acc: 0.9657 - val_loss: 0.1108 - val_acc: 0.9710\n",
      "Epoch 4/7\n",
      "149/150 [============================>.] - ETA: 1s - loss: 0.0747 - acc: 0.9701Epoch 1/7\n",
      "150/150 [==============================] - 328s 2s/step - loss: 0.0756 - acc: 0.9697 - val_loss: 0.1141 - val_acc: 0.9710\n",
      "Epoch 5/7\n",
      "149/150 [============================>.] - ETA: 1s - loss: 0.0791 - acc: 0.9748Epoch 1/7\n",
      "150/150 [==============================] - 327s 2s/step - loss: 0.0790 - acc: 0.9747 - val_loss: 0.0946 - val_acc: 0.9720\n",
      "Epoch 6/7\n",
      "149/150 [============================>.] - ETA: 1s - loss: 0.0680 - acc: 0.9762Epoch 1/7\n",
      "150/150 [==============================] - 323s 2s/step - loss: 0.0676 - acc: 0.9763 - val_loss: 0.1105 - val_acc: 0.9750\n",
      "Epoch 7/7\n",
      "149/150 [============================>.] - ETA: 1s - loss: 0.0810 - acc: 0.9728Epoch 1/7\n",
      "150/150 [==============================] - 328s 2s/step - loss: 0.0805 - acc: 0.9730 - val_loss: 0.1088 - val_acc: 0.9740\n"
     ]
    }
   ],
   "source": [
    "train_generator.reset()\n",
    "validation_generator.reset()\n",
    "print(\"[INFO] re-compiling model...\")\n",
    "opt = optimizers.SGD(lr=1e-4, momentum=0.9)\n",
    "model.compile(loss=\"binary_crossentropy\", optimizer=opt,\n",
    "    metrics=[\"accuracy\"])\n",
    "print(\"[INFO] training with last conv block...\")\n",
    "H = model.fit_generator(\n",
    "    train_generator,\n",
    "    steps_per_epoch=nb_train_samples // batch_size,\n",
    "    epochs=7,\n",
    "    validation_data=validation_generator,\n",
    "    validation_steps=nb_validation_samples // batch_size)"
   ]
  },
  {
   "cell_type": "code",
   "execution_count": 17,
   "metadata": {},
   "outputs": [
    {
     "data": {
      "image/png": "[encoded data removed]",
      "text/plain": [
       "<Figure size 432x288 with 1 Axes>"
      ]
     },
     "metadata": {
      "needs_background": "light"
     },
     "output_type": "display_data"
    },
    {
     "data": {
      "image/png": "[encoded data removed]",
      "text/plain": [
       "<Figure size 432x288 with 1 Axes>"
      ]
     },
     "metadata": {
      "needs_background": "light"
     },
     "output_type": "display_data"
    }
   ],
   "source": [
    "model.save_weights('/home/user/models/fine_tuned/fine_tuned_2class_full.h5')\n",
    "    # Plot training & validation accuracy values\n",
    "plt.plot(H.history['acc'])\n",
    "plt.plot(H.history['val_acc'])\n",
    "plt.title('Model accuracy')\n",
    "plt.ylabel('Accuracy')\n",
    "plt.xlabel('Epoch')\n",
    "plt.legend(['Train', 'Test'], loc='upper left')\n",
    "plt.show()\n",
    "\n",
    "    # Plot training & validation loss values\n",
    "plt.plot(H.history['loss'])\n",
    "plt.plot(H.history['val_loss'])\n",
    "plt.title('Model loss')\n",
    "plt.ylabel('Loss')\n",
    "plt.xlabel('Epoch')\n",
    "plt.legend(['Train', 'Test'], loc='upper left')\n",
    "plt.show()"
   ]
  },
  {
   "cell_type": "code",
   "execution_count": null,
   "metadata": {},
   "outputs": [],
   "source": []
  }
 ],
 "metadata": {
  "kernelspec": {
   "display_name": "Python 3",
   "language": "python",
   "name": "python3"
  },
  "language_info": {
   "codemirror_mode": {
    "name": "ipython",
    "version": 3
   },
   "file_extension": ".py",
   "mimetype": "text/x-python",
   "name": "python",
   "nbconvert_exporter": "python",
   "pygments_lexer": "ipython3",
   "version": "3.7.4"
  },
  "pycharm": {
   "stem_cell": {
    "cell_type": "raw",
    "metadata": {
     "collapsed": false
    },
    "source": []
   }
  }
 },
 "nbformat": 4,
 "nbformat_minor": 1
}

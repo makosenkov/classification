{
 "cells": [
  {
   "cell_type": "code",
   "execution_count": 33,
   "metadata": {
    "pycharm": {
     "is_executing": false,
     "name": "#%%\n"
    },
    "scrolled": true
   },
   "outputs": [],
   "source": [
    "from tensorflow.keras.preprocessing.image import ImageDataGenerator\n",
    "from tensorflow.keras.models import Sequential, load_model\n",
    "from tensorflow.keras.layers import Conv2D, MaxPooling2D\n",
    "from tensorflow.keras.layers import Activation, Dropout, Flatten, Dense\n",
    "from tensorflow.keras import backend as K\n",
    "from tensorflow.keras.utils import plot_model\n",
    "from tensorflow.keras.callbacks import ModelCheckpoint, ReduceLROnPlateau\n",
    "import matplotlib.pyplot as plt\n",
    "import tensorflow as tf"
   ]
  },
  {
   "cell_type": "code",
   "execution_count": 9,
   "metadata": {
    "pycharm": {
     "is_executing": false,
     "name": "#%%\n"
    }
   },
   "outputs": [
    {
     "name": "stdout",
     "output_type": "stream",
     "text": [
      "Found 1000 images belonging to 2 classes.\n",
      "Found 300 images belonging to 2 classes.\n",
      "Epoch 1/50\n",
      "50/50 [==============================] - 36s 717ms/step - loss: 0.7281 - accuracy: 0.4740 - val_loss: 0.6894 - val_accuracy: 0.5700\n",
      "Epoch 2/50\n",
      "50/50 [==============================] - 31s 616ms/step - loss: 0.6646 - accuracy: 0.5770 - val_loss: 0.6218 - val_accuracy: 0.6433\n",
      "Epoch 3/50\n",
      "50/50 [==============================] - 31s 616ms/step - loss: 0.5861 - accuracy: 0.6930 - val_loss: 0.5460 - val_accuracy: 0.7500\n",
      "Epoch 4/50\n",
      "50/50 [==============================] - 30s 606ms/step - loss: 0.5491 - accuracy: 0.7440 - val_loss: 0.6110 - val_accuracy: 0.6633\n",
      "Epoch 5/50\n",
      "50/50 [==============================] - 31s 618ms/step - loss: 0.5086 - accuracy: 0.7620 - val_loss: 0.5376 - val_accuracy: 0.8100\n",
      "Epoch 6/50\n",
      "50/50 [==============================] - 31s 619ms/step - loss: 0.4372 - accuracy: 0.8120 - val_loss: 0.4705 - val_accuracy: 0.7733\n",
      "Epoch 7/50\n",
      "50/50 [==============================] - 31s 611ms/step - loss: 0.4104 - accuracy: 0.8240 - val_loss: 0.3141 - val_accuracy: 0.8433\n",
      "Epoch 8/50\n",
      "50/50 [==============================] - 31s 623ms/step - loss: 0.4523 - accuracy: 0.7880 - val_loss: 0.3979 - val_accuracy: 0.8000\n",
      "Epoch 9/50\n",
      "50/50 [==============================] - 31s 616ms/step - loss: 0.5624 - accuracy: 0.7420 - val_loss: 0.5652 - val_accuracy: 0.6900\n",
      "Epoch 10/50\n",
      "50/50 [==============================] - 31s 616ms/step - loss: 0.4996 - accuracy: 0.7630 - val_loss: 0.4636 - val_accuracy: 0.7967\n",
      "Epoch 11/50\n",
      "50/50 [==============================] - 30s 609ms/step - loss: 0.4946 - accuracy: 0.7790 - val_loss: 0.4462 - val_accuracy: 0.7600\n",
      "Epoch 12/50\n",
      "50/50 [==============================] - 31s 613ms/step - loss: 0.4810 - accuracy: 0.7830 - val_loss: 0.4478 - val_accuracy: 0.8000\n",
      "Epoch 13/50\n",
      "50/50 [==============================] - 30s 609ms/step - loss: 0.4565 - accuracy: 0.8000 - val_loss: 0.3296 - val_accuracy: 0.8600\n",
      "Epoch 14/50\n",
      "50/50 [==============================] - 31s 613ms/step - loss: 0.3135 - accuracy: 0.8540 - val_loss: 0.3110 - val_accuracy: 0.9167\n",
      "Epoch 15/50\n",
      "50/50 [==============================] - 31s 621ms/step - loss: 0.3829 - accuracy: 0.8420 - val_loss: 0.2425 - val_accuracy: 0.9467\n",
      "Epoch 16/50\n",
      "50/50 [==============================] - 30s 609ms/step - loss: 0.2576 - accuracy: 0.9110 - val_loss: 0.3002 - val_accuracy: 0.9400\n",
      "Epoch 17/50\n",
      "50/50 [==============================] - 31s 611ms/step - loss: 0.2822 - accuracy: 0.9170 - val_loss: 0.2879 - val_accuracy: 0.9100\n",
      "Epoch 18/50\n",
      "50/50 [==============================] - 31s 613ms/step - loss: 0.2326 - accuracy: 0.9100 - val_loss: 0.2897 - val_accuracy: 0.9133\n",
      "Epoch 19/50\n",
      "50/50 [==============================] - 31s 615ms/step - loss: 0.2108 - accuracy: 0.9180 - val_loss: 0.5591 - val_accuracy: 0.8400\n",
      "Epoch 20/50\n",
      "50/50 [==============================] - 31s 614ms/step - loss: 0.2085 - accuracy: 0.9360 - val_loss: 0.2456 - val_accuracy: 0.9067\n",
      "Epoch 21/50\n",
      "50/50 [==============================] - 31s 610ms/step - loss: 0.1729 - accuracy: 0.9400 - val_loss: 0.2790 - val_accuracy: 0.9200\n",
      "Epoch 22/50\n",
      "49/50 [============================>.] - ETA: 0s - loss: 0.2230 - accuracy: 0.9184\n",
      "Epoch 00022: ReduceLROnPlateau reducing learning rate to 0.00010000000474974513.\n",
      "50/50 [==============================] - 31s 617ms/step - loss: 0.2202 - accuracy: 0.9190 - val_loss: 0.2555 - val_accuracy: 0.9300\n",
      "Epoch 23/50\n",
      "50/50 [==============================] - 31s 621ms/step - loss: 0.1487 - accuracy: 0.9490 - val_loss: 0.2577 - val_accuracy: 0.9267\n",
      "Epoch 24/50\n",
      "50/50 [==============================] - 31s 613ms/step - loss: 0.1570 - accuracy: 0.9530 - val_loss: 0.2578 - val_accuracy: 0.9200\n",
      "Epoch 25/50\n",
      "50/50 [==============================] - 31s 623ms/step - loss: 0.1506 - accuracy: 0.9490 - val_loss: 0.2616 - val_accuracy: 0.9267\n",
      "Epoch 26/50\n",
      "50/50 [==============================] - 31s 611ms/step - loss: 0.1419 - accuracy: 0.9510 - val_loss: 0.2601 - val_accuracy: 0.9233\n",
      "Epoch 27/50\n",
      "50/50 [==============================] - 31s 616ms/step - loss: 0.1263 - accuracy: 0.9540 - val_loss: 0.2611 - val_accuracy: 0.9233\n",
      "Epoch 28/50\n",
      "50/50 [==============================] - 31s 617ms/step - loss: 0.1452 - accuracy: 0.9430 - val_loss: 0.2575 - val_accuracy: 0.9233\n",
      "Epoch 29/50\n",
      "49/50 [============================>.] - ETA: 0s - loss: 0.1313 - accuracy: 0.9551\n",
      "Epoch 00029: ReduceLROnPlateau reducing learning rate to 1.0000000474974514e-05.\n",
      "50/50 [==============================] - 31s 621ms/step - loss: 0.1306 - accuracy: 0.9560 - val_loss: 0.2515 - val_accuracy: 0.9267\n",
      "Epoch 30/50\n",
      "50/50 [==============================] - 31s 619ms/step - loss: 0.1236 - accuracy: 0.9540 - val_loss: 0.2506 - val_accuracy: 0.9267\n",
      "Epoch 31/50\n",
      "50/50 [==============================] - 31s 614ms/step - loss: 0.1304 - accuracy: 0.9560 - val_loss: 0.2502 - val_accuracy: 0.9267\n",
      "Epoch 32/50\n",
      "50/50 [==============================] - 30s 609ms/step - loss: 0.1266 - accuracy: 0.9520 - val_loss: 0.2517 - val_accuracy: 0.9267\n",
      "Epoch 33/50\n",
      "50/50 [==============================] - 31s 614ms/step - loss: 0.1181 - accuracy: 0.9620 - val_loss: 0.2519 - val_accuracy: 0.9267\n",
      "Epoch 34/50\n",
      "50/50 [==============================] - 31s 614ms/step - loss: 0.1231 - accuracy: 0.9610 - val_loss: 0.2524 - val_accuracy: 0.9267\n",
      "Epoch 35/50\n",
      "50/50 [==============================] - 31s 611ms/step - loss: 0.1224 - accuracy: 0.9620 - val_loss: 0.2545 - val_accuracy: 0.9267\n",
      "Epoch 36/50\n",
      "49/50 [============================>.] - ETA: 0s - loss: 0.1291 - accuracy: 0.9561\n",
      "Epoch 00036: ReduceLROnPlateau reducing learning rate to 1.0000000656873453e-06.\n",
      "50/50 [==============================] - 31s 623ms/step - loss: 0.1272 - accuracy: 0.9570 - val_loss: 0.2533 - val_accuracy: 0.9267\n",
      "Epoch 37/50\n",
      "50/50 [==============================] - 31s 611ms/step - loss: 0.1418 - accuracy: 0.9540 - val_loss: 0.2532 - val_accuracy: 0.9267\n",
      "Epoch 38/50\n",
      "50/50 [==============================] - 31s 612ms/step - loss: 0.1160 - accuracy: 0.9610 - val_loss: 0.2533 - val_accuracy: 0.9267\n",
      "Epoch 39/50\n",
      "50/50 [==============================] - 31s 614ms/step - loss: 0.1328 - accuracy: 0.9540 - val_loss: 0.2535 - val_accuracy: 0.9267\n",
      "Epoch 40/50\n",
      "50/50 [==============================] - 31s 618ms/step - loss: 0.1330 - accuracy: 0.9460 - val_loss: 0.2533 - val_accuracy: 0.9267\n",
      "Epoch 41/50\n",
      "50/50 [==============================] - 30s 608ms/step - loss: 0.1269 - accuracy: 0.9600 - val_loss: 0.2535 - val_accuracy: 0.9267\n",
      "Epoch 42/50\n",
      "50/50 [==============================] - 31s 622ms/step - loss: 0.0997 - accuracy: 0.9690 - val_loss: 0.2538 - val_accuracy: 0.9267\n",
      "Epoch 43/50\n",
      "49/50 [============================>.] - ETA: 0s - loss: 0.1251 - accuracy: 0.9551\n",
      "Epoch 00043: ReduceLROnPlateau reducing learning rate to 1.0000001111620805e-07.\n",
      "50/50 [==============================] - 31s 619ms/step - loss: 0.1260 - accuracy: 0.9550 - val_loss: 0.2535 - val_accuracy: 0.9267\n",
      "Epoch 44/50\n",
      "50/50 [==============================] - 30s 610ms/step - loss: 0.1444 - accuracy: 0.9550 - val_loss: 0.2535 - val_accuracy: 0.9267\n",
      "Epoch 45/50\n",
      "50/50 [==============================] - 31s 615ms/step - loss: 0.1211 - accuracy: 0.9640 - val_loss: 0.2535 - val_accuracy: 0.9267\n",
      "Epoch 46/50\n",
      "50/50 [==============================] - 31s 615ms/step - loss: 0.1264 - accuracy: 0.9580 - val_loss: 0.2535 - val_accuracy: 0.9267\n",
      "Epoch 47/50\n",
      "50/50 [==============================] - 31s 617ms/step - loss: 0.1171 - accuracy: 0.9610 - val_loss: 0.2536 - val_accuracy: 0.9267\n",
      "Epoch 48/50\n",
      "50/50 [==============================] - 31s 611ms/step - loss: 0.1162 - accuracy: 0.9570 - val_loss: 0.2538 - val_accuracy: 0.9267\n",
      "Epoch 49/50\n",
      "50/50 [==============================] - 31s 613ms/step - loss: 0.1187 - accuracy: 0.9600 - val_loss: 0.2536 - val_accuracy: 0.9267\n",
      "Epoch 50/50\n",
      "49/50 [============================>.] - ETA: 0s - loss: 0.1207 - accuracy: 0.9561\n",
      "Epoch 00050: ReduceLROnPlateau reducing learning rate to 1.000000082740371e-08.\n",
      "50/50 [==============================] - 31s 612ms/step - loss: 0.1211 - accuracy: 0.9550 - val_loss: 0.2537 - val_accuracy: 0.9267\n"
     ]
    }
   ],
   "source": [
    "# dimensions of our images.\n",
    "img_width, img_height = 224, 224\n",
    "\n",
    "train_data_dir = '/home/mksnkv/Documents/classification/passport_2class_divided_small/train'\n",
    "validation_data_dir = '/home/mksnkv/Documents/classification/passport_2class_divided_small/validation'\n",
    "nb_train_samples = 1000\n",
    "nb_validation_samples = 300\n",
    "epochs = 50\n",
    "batch_size = 20\n",
    "\n",
    "if K.image_data_format() == 'channels_first':\n",
    "    input_shape = (3, img_width, img_height)\n",
    "else:\n",
    "    input_shape = (img_width, img_height, 3)\n",
    "\n",
    "model = Sequential()\n",
    "model.add(Conv2D(32, (3, 3), input_shape=input_shape))\n",
    "model.add(Activation('relu'))\n",
    "model.add(MaxPooling2D(pool_size=(2, 2)))\n",
    "\n",
    "model.add(Conv2D(32, (3, 3)))\n",
    "model.add(Activation('relu'))\n",
    "model.add(MaxPooling2D(pool_size=(2, 2)))\n",
    "\n",
    "model.add(Conv2D(64, (3, 3)))\n",
    "model.add(Activation('relu'))\n",
    "model.add(MaxPooling2D(pool_size=(2, 2)))\n",
    "\n",
    "model.add(Flatten())\n",
    "model.add(Dense(64))\n",
    "model.add(Activation('relu'))\n",
    "model.add(Dropout(0.5))\n",
    "model.add(Dense(1))\n",
    "model.add(Activation('sigmoid'))\n",
    "\n",
    "model.compile(loss='binary_crossentropy',\n",
    "              optimizer='adam',\n",
    "              metrics=['accuracy'])\n",
    "\n",
    "# this is the augmentation configuration we will use for training\n",
    "train_datagen = ImageDataGenerator(\n",
    "    rescale=1. / 255,\n",
    "        rotation_range=40,\n",
    "        width_shift_range=0.2,\n",
    "        height_shift_range=0.2,\n",
    "        shear_range=0.2,\n",
    "        zoom_range=0.2,\n",
    "        horizontal_flip=True,\n",
    "        fill_mode='nearest',\n",
    "        seed=123)\n",
    "\n",
    "# this is the augmentation configuration we will use for testing:\n",
    "# only rescaling\n",
    "test_datagen = ImageDataGenerator(rescale=1. / 255)\n",
    "\n",
    "train_generator = train_datagen.flow_from_directory(\n",
    "    train_data_dir,\n",
    "    target_size=(img_width, img_height),\n",
    "    batch_size=batch_size,\n",
    "    class_mode='binary')\n",
    "\n",
    "validation_generator = test_datagen.flow_from_directory(\n",
    "    validation_data_dir,\n",
    "    target_size=(img_width, img_height),\n",
    "    batch_size=batch_size,\n",
    "    class_mode='binary')\n",
    "\n",
    "reduce_lr_acc = ReduceLROnPlateau(monitor='val_accuracy', factor=0.1, patience=7, verbose=1, min_delta=1e-4, mode='max')\n",
    "mcp_save = ModelCheckpoint('/home/mksnkv/models/simple/conv_two_class_passport.h5', save_best_only=True, monitor='val_accuracy', mode='max')\n",
    "\n",
    "history = model.fit_generator(\n",
    "    train_generator,\n",
    "    steps_per_epoch=nb_train_samples // batch_size,\n",
    "    epochs=epochs,\n",
    "    callbacks = [reduce_lr_acc, mcp_save],\n",
    "    validation_data=validation_generator,\n",
    "    validation_steps=nb_validation_samples // batch_size)"
   ]
  },
  {
   "cell_type": "code",
   "execution_count": 6,
   "metadata": {
    "pycharm": {
     "is_executing": false,
     "name": "#%%\n"
    }
   },
   "outputs": [],
   "source": [
    "# model.save('/home/mksnkv/models/simple/conv_two_class_passport.h5')"
   ]
  },
  {
   "cell_type": "code",
   "execution_count": 11,
   "metadata": {
    "pycharm": {
     "name": "#%%\n"
    }
   },
   "outputs": [
    {
     "name": "stdout",
     "output_type": "stream",
     "text": [
      "Failed to import pydot. You must install pydot and graphviz for `pydotprint` to work.\n"
     ]
    },
    {
     "data": {
      "image/png": "[encoded data removed]",
      "text/plain": [
       "<Figure size 432x288 with 1 Axes>"
      ]
     },
     "metadata": {
      "needs_background": "light"
     },
     "output_type": "display_data"
    },
    {
     "data": {
      "image/png": "[encoded data removed]",
      "text/plain": [
       "<Figure size 432x288 with 1 Axes>"
      ]
     },
     "metadata": {
      "needs_background": "light"
     },
     "output_type": "display_data"
    }
   ],
   "source": [
    "plot_model(model, to_file='model.png')\n",
    "    # Plot training & validation accuracy values\n",
    "plt.plot(history.history['accuracy'])\n",
    "plt.plot(history.history['val_accuracy'])\n",
    "plt.title('Model accuracy')\n",
    "plt.ylabel('Accuracy')\n",
    "plt.xlabel('Epoch')\n",
    "plt.legend(['Train', 'Test'], loc='upper left')\n",
    "plt.show()\n",
    "\n",
    "    # Plot training & validation loss values\n",
    "plt.plot(history.history['loss'])\n",
    "plt.plot(history.history['val_loss'])\n",
    "plt.title('Model loss')\n",
    "plt.ylabel('Loss')\n",
    "plt.xlabel('Epoch')\n",
    "plt.legend(['Train', 'Test'], loc='upper left')\n",
    "plt.show()"
   ]
  },
  {
   "cell_type": "code",
   "execution_count": 37,
   "metadata": {},
   "outputs": [
    {
     "name": "stdout",
     "output_type": "stream",
     "text": [
      "Found 780 images belonging to 2 classes.\n"
     ]
    },
    {
     "ename": "IndexError",
     "evalue": "list index out of range",
     "output_type": "error",
     "traceback": [
      "\u001b[0;31m---------------------------------------------------------------------------\u001b[0m",
      "\u001b[0;31mIndexError\u001b[0m                                Traceback (most recent call last)",
      "\u001b[0;32m<ipython-input-37-afcab56c0271>\u001b[0m in \u001b[0;36m<module>\u001b[0;34m\u001b[0m\n\u001b[1;32m      9\u001b[0m         shuffle=False)\n\u001b[1;32m     10\u001b[0m \u001b[0mbest_model\u001b[0m \u001b[0;34m=\u001b[0m \u001b[0mload_model\u001b[0m\u001b[0;34m(\u001b[0m\u001b[0;34m'/home/mksnkv/models/simple/conv_two_class_passport.h5'\u001b[0m\u001b[0;34m)\u001b[0m\u001b[0;34m\u001b[0m\u001b[0;34m\u001b[0m\u001b[0m\n\u001b[0;32m---> 11\u001b[0;31m \u001b[0mbest_model\u001b[0m\u001b[0;34m.\u001b[0m\u001b[0mevaluate_generator\u001b[0m\u001b[0;34m(\u001b[0m\u001b[0mgenerator\u001b[0m\u001b[0;34m=\u001b[0m\u001b[0meval_generator\u001b[0m\u001b[0;34m,\u001b[0m \u001b[0msteps\u001b[0m \u001b[0;34m=\u001b[0m \u001b[0;36m780\u001b[0m \u001b[0;34m//\u001b[0m \u001b[0;36m10\u001b[0m\u001b[0;34m)\u001b[0m\u001b[0;34m\u001b[0m\u001b[0;34m\u001b[0m\u001b[0m\n\u001b[0m\u001b[1;32m     12\u001b[0m \u001b[0;34m\u001b[0m\u001b[0m\n",
      "\u001b[0;32m~/anaconda3/envs/classification/lib/python3.7/site-packages/tensorflow_core/python/keras/engine/training.py\u001b[0m in \u001b[0;36mevaluate_generator\u001b[0;34m(self, generator, steps, callbacks, max_queue_size, workers, use_multiprocessing, verbose)\u001b[0m\n\u001b[1;32m   1362\u001b[0m         \u001b[0muse_multiprocessing\u001b[0m\u001b[0;34m=\u001b[0m\u001b[0muse_multiprocessing\u001b[0m\u001b[0;34m,\u001b[0m\u001b[0;34m\u001b[0m\u001b[0;34m\u001b[0m\u001b[0m\n\u001b[1;32m   1363\u001b[0m         \u001b[0mverbose\u001b[0m\u001b[0;34m=\u001b[0m\u001b[0mverbose\u001b[0m\u001b[0;34m,\u001b[0m\u001b[0;34m\u001b[0m\u001b[0;34m\u001b[0m\u001b[0m\n\u001b[0;32m-> 1364\u001b[0;31m         callbacks=callbacks)\n\u001b[0m\u001b[1;32m   1365\u001b[0m \u001b[0;34m\u001b[0m\u001b[0m\n\u001b[1;32m   1366\u001b[0m   def predict_generator(self,\n",
      "\u001b[0;32m~/anaconda3/envs/classification/lib/python3.7/site-packages/tensorflow_core/python/keras/engine/training_generator.py\u001b[0m in \u001b[0;36mmodel_iteration\u001b[0;34m(model, data, steps_per_epoch, epochs, verbose, callbacks, validation_data, validation_steps, validation_freq, class_weight, max_queue_size, workers, use_multiprocessing, shuffle, initial_epoch, mode, batch_size, steps_name, **kwargs)\u001b[0m\n\u001b[1;32m    263\u001b[0m \u001b[0;34m\u001b[0m\u001b[0m\n\u001b[1;32m    264\u001b[0m       \u001b[0mis_deferred\u001b[0m \u001b[0;34m=\u001b[0m \u001b[0;32mnot\u001b[0m \u001b[0mmodel\u001b[0m\u001b[0;34m.\u001b[0m\u001b[0m_is_compiled\u001b[0m\u001b[0;34m\u001b[0m\u001b[0;34m\u001b[0m\u001b[0m\n\u001b[0;32m--> 265\u001b[0;31m       \u001b[0mbatch_outs\u001b[0m \u001b[0;34m=\u001b[0m \u001b[0mbatch_function\u001b[0m\u001b[0;34m(\u001b[0m\u001b[0;34m*\u001b[0m\u001b[0mbatch_data\u001b[0m\u001b[0;34m)\u001b[0m\u001b[0;34m\u001b[0m\u001b[0;34m\u001b[0m\u001b[0m\n\u001b[0m\u001b[1;32m    266\u001b[0m       \u001b[0;32mif\u001b[0m \u001b[0;32mnot\u001b[0m \u001b[0misinstance\u001b[0m\u001b[0;34m(\u001b[0m\u001b[0mbatch_outs\u001b[0m\u001b[0;34m,\u001b[0m \u001b[0mlist\u001b[0m\u001b[0;34m)\u001b[0m\u001b[0;34m:\u001b[0m\u001b[0;34m\u001b[0m\u001b[0;34m\u001b[0m\u001b[0m\n\u001b[1;32m    267\u001b[0m         \u001b[0mbatch_outs\u001b[0m \u001b[0;34m=\u001b[0m \u001b[0;34m[\u001b[0m\u001b[0mbatch_outs\u001b[0m\u001b[0;34m]\u001b[0m\u001b[0;34m\u001b[0m\u001b[0;34m\u001b[0m\u001b[0m\n",
      "\u001b[0;32m~/anaconda3/envs/classification/lib/python3.7/site-packages/tensorflow_core/python/keras/engine/training.py\u001b[0m in \u001b[0;36mtest_on_batch\u001b[0;34m(self, x, y, sample_weight, reset_metrics)\u001b[0m\n\u001b[1;32m   1068\u001b[0m       outputs = training_v2_utils.test_on_batch(\n\u001b[1;32m   1069\u001b[0m           \u001b[0mself\u001b[0m\u001b[0;34m,\u001b[0m \u001b[0mx\u001b[0m\u001b[0;34m,\u001b[0m \u001b[0my\u001b[0m\u001b[0;34m=\u001b[0m\u001b[0my\u001b[0m\u001b[0;34m,\u001b[0m \u001b[0msample_weight\u001b[0m\u001b[0;34m=\u001b[0m\u001b[0msample_weight\u001b[0m\u001b[0;34m,\u001b[0m\u001b[0;34m\u001b[0m\u001b[0;34m\u001b[0m\u001b[0m\n\u001b[0;32m-> 1070\u001b[0;31m           reset_metrics=reset_metrics)\n\u001b[0m\u001b[1;32m   1071\u001b[0m       outputs = (outputs['total_loss'] + outputs['output_losses'] +\n\u001b[1;32m   1072\u001b[0m                  outputs['metrics'])\n",
      "\u001b[0;32m~/anaconda3/envs/classification/lib/python3.7/site-packages/tensorflow_core/python/keras/engine/training_v2_utils.py\u001b[0m in \u001b[0;36mtest_on_batch\u001b[0;34m(model, x, y, sample_weight, reset_metrics)\u001b[0m\n\u001b[1;32m    325\u001b[0m       \u001b[0my\u001b[0m\u001b[0;34m,\u001b[0m\u001b[0;34m\u001b[0m\u001b[0;34m\u001b[0m\u001b[0m\n\u001b[1;32m    326\u001b[0m       \u001b[0msample_weights\u001b[0m\u001b[0;34m=\u001b[0m\u001b[0msample_weights\u001b[0m\u001b[0;34m,\u001b[0m\u001b[0;34m\u001b[0m\u001b[0;34m\u001b[0m\u001b[0m\n\u001b[0;32m--> 327\u001b[0;31m       output_loss_metrics=model._output_loss_metrics)\n\u001b[0m\u001b[1;32m    328\u001b[0m \u001b[0;34m\u001b[0m\u001b[0m\n\u001b[1;32m    329\u001b[0m   \u001b[0;32mif\u001b[0m \u001b[0mreset_metrics\u001b[0m\u001b[0;34m:\u001b[0m\u001b[0;34m\u001b[0m\u001b[0;34m\u001b[0m\u001b[0m\n",
      "\u001b[0;32m~/anaconda3/envs/classification/lib/python3.7/site-packages/tensorflow_core/python/keras/engine/training_eager.py\u001b[0m in \u001b[0;36mtest_on_batch\u001b[0;34m(model, inputs, targets, sample_weights, output_loss_metrics)\u001b[0m\n\u001b[1;32m    352\u001b[0m             \u001b[0msample_weights\u001b[0m\u001b[0;34m=\u001b[0m\u001b[0msample_weights\u001b[0m\u001b[0;34m,\u001b[0m\u001b[0;34m\u001b[0m\u001b[0;34m\u001b[0m\u001b[0m\n\u001b[1;32m    353\u001b[0m             \u001b[0mtraining\u001b[0m\u001b[0;34m=\u001b[0m\u001b[0;32mFalse\u001b[0m\u001b[0;34m,\u001b[0m\u001b[0;34m\u001b[0m\u001b[0;34m\u001b[0m\u001b[0m\n\u001b[0;32m--> 354\u001b[0;31m             output_loss_metrics=output_loss_metrics))\n\u001b[0m\u001b[1;32m    355\u001b[0m   \u001b[0;32mif\u001b[0m \u001b[0;32mnot\u001b[0m \u001b[0misinstance\u001b[0m\u001b[0;34m(\u001b[0m\u001b[0mouts\u001b[0m\u001b[0;34m,\u001b[0m \u001b[0mlist\u001b[0m\u001b[0;34m)\u001b[0m\u001b[0;34m:\u001b[0m\u001b[0;34m\u001b[0m\u001b[0;34m\u001b[0m\u001b[0m\n\u001b[1;32m    356\u001b[0m     \u001b[0mouts\u001b[0m \u001b[0;34m=\u001b[0m \u001b[0;34m[\u001b[0m\u001b[0mouts\u001b[0m\u001b[0;34m]\u001b[0m\u001b[0;34m\u001b[0m\u001b[0;34m\u001b[0m\u001b[0m\n",
      "\u001b[0;32m~/anaconda3/envs/classification/lib/python3.7/site-packages/tensorflow_core/python/keras/engine/training_eager.py\u001b[0m in \u001b[0;36m_model_loss\u001b[0;34m(model, inputs, targets, output_loss_metrics, sample_weights, training)\u001b[0m\n\u001b[1;32m    164\u001b[0m \u001b[0;34m\u001b[0m\u001b[0m\n\u001b[1;32m    165\u001b[0m         \u001b[0;32mif\u001b[0m \u001b[0mhasattr\u001b[0m\u001b[0;34m(\u001b[0m\u001b[0mloss_fn\u001b[0m\u001b[0;34m,\u001b[0m \u001b[0;34m'reduction'\u001b[0m\u001b[0;34m)\u001b[0m\u001b[0;34m:\u001b[0m\u001b[0;34m\u001b[0m\u001b[0;34m\u001b[0m\u001b[0m\n\u001b[0;32m--> 166\u001b[0;31m           \u001b[0mper_sample_losses\u001b[0m \u001b[0;34m=\u001b[0m \u001b[0mloss_fn\u001b[0m\u001b[0;34m.\u001b[0m\u001b[0mcall\u001b[0m\u001b[0;34m(\u001b[0m\u001b[0mtargets\u001b[0m\u001b[0;34m[\u001b[0m\u001b[0mi\u001b[0m\u001b[0;34m]\u001b[0m\u001b[0;34m,\u001b[0m \u001b[0mouts\u001b[0m\u001b[0;34m[\u001b[0m\u001b[0mi\u001b[0m\u001b[0;34m]\u001b[0m\u001b[0;34m)\u001b[0m\u001b[0;34m\u001b[0m\u001b[0;34m\u001b[0m\u001b[0m\n\u001b[0m\u001b[1;32m    167\u001b[0m           weighted_losses = losses_utils.compute_weighted_loss(\n\u001b[1;32m    168\u001b[0m               \u001b[0mper_sample_losses\u001b[0m\u001b[0;34m,\u001b[0m\u001b[0;34m\u001b[0m\u001b[0;34m\u001b[0m\u001b[0m\n",
      "\u001b[0;31mIndexError\u001b[0m: list index out of range"
     ]
    }
   ],
   "source": [
    "evaluation_data_dir = '/home/mksnkv/Documents/classification/passport_2class_divided_small/evaluation'\n",
    "eval_datagen = ImageDataGenerator(rescale=1. / 255)\n",
    "eval_generator = eval_datagen.flow_from_directory(\n",
    "        directory = evaluation_data_dir,\n",
    "        target_size=(img_width, img_height),\n",
    "        color_mode=\"rgb\",\n",
    "        batch_size=10,\n",
    "        class_mode=None,\n",
    "        shuffle=False)\n",
    "best_model = load_model('/home/mksnkv/models/simple/conv_two_class_passport.h5')\n",
    "best_model.evaluate_generator(generator=eval_generator, steps = 780 // 10)\n",
    "    "
   ]
  },
  {
   "cell_type": "code",
   "execution_count": null,
   "metadata": {},
   "outputs": [],
   "source": []
  }
 ],
 "metadata": {
  "kernelspec": {
   "display_name": "Python 3",
   "language": "python",
   "name": "python3"
  },
  "language_info": {
   "codemirror_mode": {
    "name": "ipython",
    "version": 3
   },
   "file_extension": ".py",
   "mimetype": "text/x-python",
   "name": "python",
   "nbconvert_exporter": "python",
   "pygments_lexer": "ipython3",
   "version": "3.7.6"
  },
  "pycharm": {
   "stem_cell": {
    "cell_type": "raw",
    "metadata": {
     "collapsed": false
    },
    "source": []
   }
  }
 },
 "nbformat": 4,
 "nbformat_minor": 2
}

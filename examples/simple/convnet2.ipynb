{
 "cells": [
  {
   "cell_type": "code",
   "execution_count": 4,
   "metadata": {
    "pycharm": {
     "is_executing": false,
     "name": "#%%\n"
    },
    "scrolled": true
   },
   "outputs": [],
   "source": [
    "from tensorflow.keras.preprocessing.image import ImageDataGenerator\n",
    "from tensorflow.keras.models import Sequential\n",
    "from tensorflow.keras.layers import Conv2D, MaxPooling2D\n",
    "from tensorflow.keras.layers import Activation, Dropout, Flatten, Dense\n",
    "from tensorflow.keras import backend as K\n",
    "from tensorflow.keras.utils import plot_model\n",
    "import matplotlib.pyplot as plt\n",
    "import tensorflow as tf\n",
    "\n",
    "tf.config.threading.set_inter_op_parallelism_threads(6)\n",
    "tf.config.threading.set_intra_op_parallelism_threads(2)"
   ]
  },
  {
   "cell_type": "code",
   "execution_count": 5,
   "metadata": {
    "pycharm": {
     "is_executing": false,
     "name": "#%%\n"
    }
   },
   "outputs": [
    {
     "name": "stdout",
     "output_type": "stream",
     "text": [
      "Found 3000 images belonging to 2 classes.\n",
      "Found 1000 images belonging to 2 classes.\n",
      "Epoch 1/50\n",
      "149/150 [============================>.] - ETA: 0s - loss: 0.5575 - acc: 0.7225Epoch 1/50\n",
      "150/150 [==============================] - 63s 420ms/step - loss: 0.5561 - acc: 0.7233 - val_loss: 0.4194 - val_acc: 0.8290\n",
      "Epoch 2/50\n",
      "149/150 [============================>.] - ETA: 0s - loss: 0.4257 - acc: 0.8134Epoch 1/50\n",
      "150/150 [==============================] - 60s 399ms/step - loss: 0.4252 - acc: 0.8137 - val_loss: 0.3527 - val_acc: 0.8540\n",
      "Epoch 3/50\n",
      "149/150 [============================>.] - ETA: 0s - loss: 0.3953 - acc: 0.8265Epoch 1/50\n",
      "150/150 [==============================] - 59s 395ms/step - loss: 0.3951 - acc: 0.8267 - val_loss: 0.3728 - val_acc: 0.8320\n",
      "Epoch 4/50\n",
      "149/150 [============================>.] - ETA: 0s - loss: 0.3556 - acc: 0.8534Epoch 1/50\n",
      "150/150 [==============================] - 60s 400ms/step - loss: 0.3551 - acc: 0.8540 - val_loss: 0.2872 - val_acc: 0.8900\n",
      "Epoch 5/50\n",
      "149/150 [============================>.] - ETA: 0s - loss: 0.3310 - acc: 0.8745Epoch 1/50\n",
      "150/150 [==============================] - 59s 396ms/step - loss: 0.3301 - acc: 0.8750 - val_loss: 0.2611 - val_acc: 0.8840\n",
      "Epoch 6/50\n",
      "149/150 [============================>.] - ETA: 0s - loss: 0.2920 - acc: 0.8859Epoch 1/50\n",
      "150/150 [==============================] - 59s 395ms/step - loss: 0.2914 - acc: 0.8860 - val_loss: 0.2923 - val_acc: 0.8860\n",
      "Epoch 7/50\n",
      "149/150 [============================>.] - ETA: 0s - loss: 0.2840 - acc: 0.8886Epoch 1/50\n",
      "150/150 [==============================] - 59s 396ms/step - loss: 0.2845 - acc: 0.8883 - val_loss: 0.3222 - val_acc: 0.8900\n",
      "Epoch 8/50\n",
      "149/150 [============================>.] - ETA: 0s - loss: 0.2850 - acc: 0.8946Epoch 1/50\n",
      "150/150 [==============================] - 60s 397ms/step - loss: 0.2864 - acc: 0.8933 - val_loss: 0.2681 - val_acc: 0.9010\n",
      "Epoch 9/50\n",
      "149/150 [============================>.] - ETA: 0s - loss: 0.2413 - acc: 0.9050Epoch 1/50\n",
      "150/150 [==============================] - 59s 396ms/step - loss: 0.2420 - acc: 0.9047 - val_loss: 0.2389 - val_acc: 0.9100\n",
      "Epoch 10/50\n",
      "149/150 [============================>.] - ETA: 0s - loss: 0.2441 - acc: 0.9101Epoch 1/50\n",
      "150/150 [==============================] - 59s 394ms/step - loss: 0.2459 - acc: 0.9090 - val_loss: 0.2186 - val_acc: 0.9240\n",
      "Epoch 11/50\n",
      "149/150 [============================>.] - ETA: 0s - loss: 0.2425 - acc: 0.9044Epoch 1/50\n",
      "150/150 [==============================] - 58s 388ms/step - loss: 0.2422 - acc: 0.9043 - val_loss: 0.3002 - val_acc: 0.8930\n",
      "Epoch 12/50\n",
      "149/150 [============================>.] - ETA: 0s - loss: 0.2247 - acc: 0.9117Epoch 1/50\n",
      "150/150 [==============================] - 58s 388ms/step - loss: 0.2242 - acc: 0.9120 - val_loss: 0.3620 - val_acc: 0.8800\n",
      "Epoch 13/50\n",
      "149/150 [============================>.] - ETA: 0s - loss: 0.2311 - acc: 0.9128Epoch 1/50\n",
      "150/150 [==============================] - 58s 385ms/step - loss: 0.2305 - acc: 0.9130 - val_loss: 0.3167 - val_acc: 0.8860\n",
      "Epoch 14/50\n",
      "149/150 [============================>.] - ETA: 0s - loss: 0.2230 - acc: 0.9131Epoch 1/50\n",
      "150/150 [==============================] - 58s 387ms/step - loss: 0.2253 - acc: 0.9127 - val_loss: 0.2302 - val_acc: 0.9200\n",
      "Epoch 15/50\n",
      "149/150 [============================>.] - ETA: 0s - loss: 0.1990 - acc: 0.9232Epoch 1/50\n",
      "150/150 [==============================] - 58s 387ms/step - loss: 0.1982 - acc: 0.9237 - val_loss: 0.2627 - val_acc: 0.9150\n",
      "Epoch 16/50\n",
      "149/150 [============================>.] - ETA: 0s - loss: 0.2170 - acc: 0.9168Epoch 1/50\n",
      "150/150 [==============================] - 59s 390ms/step - loss: 0.2176 - acc: 0.9167 - val_loss: 0.2113 - val_acc: 0.9150\n",
      "Epoch 17/50\n",
      "149/150 [============================>.] - ETA: 0s - loss: 0.2009 - acc: 0.9245Epoch 1/50\n",
      "150/150 [==============================] - 60s 402ms/step - loss: 0.2011 - acc: 0.9243 - val_loss: 0.2977 - val_acc: 0.8970\n",
      "Epoch 18/50\n",
      "149/150 [============================>.] - ETA: 0s - loss: 0.1748 - acc: 0.9295Epoch 1/50\n",
      "150/150 [==============================] - 61s 405ms/step - loss: 0.1740 - acc: 0.9300 - val_loss: 0.2578 - val_acc: 0.9150\n",
      "Epoch 19/50\n",
      "149/150 [============================>.] - ETA: 0s - loss: 0.1812 - acc: 0.9272Epoch 1/50\n",
      "150/150 [==============================] - 60s 403ms/step - loss: 0.1807 - acc: 0.9273 - val_loss: 0.2436 - val_acc: 0.9200\n",
      "Epoch 20/50\n",
      "149/150 [============================>.] - ETA: 0s - loss: 0.1675 - acc: 0.9336Epoch 1/50\n",
      "150/150 [==============================] - 61s 404ms/step - loss: 0.1673 - acc: 0.9337 - val_loss: 0.2474 - val_acc: 0.9150\n",
      "Epoch 21/50\n",
      "149/150 [============================>.] - ETA: 0s - loss: 0.1583 - acc: 0.9362Epoch 1/50\n",
      "150/150 [==============================] - 61s 405ms/step - loss: 0.1590 - acc: 0.9357 - val_loss: 0.2596 - val_acc: 0.9050\n",
      "Epoch 22/50\n",
      "149/150 [============================>.] - ETA: 0s - loss: 0.1381 - acc: 0.9436Epoch 1/50\n",
      "150/150 [==============================] - 60s 400ms/step - loss: 0.1374 - acc: 0.9440 - val_loss: 0.4166 - val_acc: 0.8900\n",
      "Epoch 23/50\n",
      "149/150 [============================>.] - ETA: 0s - loss: 0.1460 - acc: 0.9403Epoch 1/50\n",
      "150/150 [==============================] - 60s 400ms/step - loss: 0.1461 - acc: 0.9403 - val_loss: 0.2354 - val_acc: 0.9220\n",
      "Epoch 24/50\n",
      "149/150 [============================>.] - ETA: 0s - loss: 0.1610 - acc: 0.9342Epoch 1/50\n",
      "150/150 [==============================] - 60s 403ms/step - loss: 0.1608 - acc: 0.9343 - val_loss: 0.2911 - val_acc: 0.9090\n",
      "Epoch 25/50\n",
      "149/150 [============================>.] - ETA: 0s - loss: 0.1631 - acc: 0.9315Epoch 1/50\n",
      "150/150 [==============================] - 60s 401ms/step - loss: 0.1623 - acc: 0.9320 - val_loss: 0.2106 - val_acc: 0.9180\n",
      "Epoch 26/50\n",
      "149/150 [============================>.] - ETA: 0s - loss: 0.1324 - acc: 0.9440Epoch 1/50\n",
      "150/150 [==============================] - 60s 402ms/step - loss: 0.1319 - acc: 0.9443 - val_loss: 0.2939 - val_acc: 0.9140\n",
      "Epoch 27/50\n",
      "149/150 [============================>.] - ETA: 0s - loss: 0.1442 - acc: 0.9423Epoch 1/50\n",
      "150/150 [==============================] - 60s 399ms/step - loss: 0.1453 - acc: 0.9420 - val_loss: 0.4655 - val_acc: 0.8930\n",
      "Epoch 28/50\n",
      "149/150 [============================>.] - ETA: 0s - loss: 0.1381 - acc: 0.9483Epoch 1/50\n",
      "150/150 [==============================] - 60s 398ms/step - loss: 0.1376 - acc: 0.9487 - val_loss: 0.2794 - val_acc: 0.9150\n",
      "Epoch 29/50\n",
      "149/150 [============================>.] - ETA: 0s - loss: 0.1468 - acc: 0.9493Epoch 1/50\n",
      "150/150 [==============================] - 61s 403ms/step - loss: 0.1470 - acc: 0.9487 - val_loss: 0.3009 - val_acc: 0.9200\n",
      "Epoch 30/50\n",
      "149/150 [============================>.] - ETA: 0s - loss: 0.1226 - acc: 0.9523Epoch 1/50\n",
      "150/150 [==============================] - 62s 410ms/step - loss: 0.1220 - acc: 0.9527 - val_loss: 0.2905 - val_acc: 0.9170\n",
      "Epoch 31/50\n",
      "149/150 [============================>.] - ETA: 0s - loss: 0.1045 - acc: 0.9564Epoch 1/50\n",
      "150/150 [==============================] - 61s 408ms/step - loss: 0.1045 - acc: 0.9560 - val_loss: 0.4743 - val_acc: 0.8950\n",
      "Epoch 32/50\n",
      "149/150 [============================>.] - ETA: 0s - loss: 0.1236 - acc: 0.9534Epoch 1/50\n",
      "150/150 [==============================] - 61s 407ms/step - loss: 0.1243 - acc: 0.9530 - val_loss: 0.2692 - val_acc: 0.9120\n",
      "Epoch 33/50\n",
      "149/150 [============================>.] - ETA: 0s - loss: 0.1175 - acc: 0.9530Epoch 1/50\n",
      "150/150 [==============================] - 61s 406ms/step - loss: 0.1167 - acc: 0.9533 - val_loss: 0.4117 - val_acc: 0.9060\n",
      "Epoch 34/50\n",
      "149/150 [============================>.] - ETA: 0s - loss: 0.1163 - acc: 0.9540Epoch 1/50\n",
      "150/150 [==============================] - 60s 401ms/step - loss: 0.1160 - acc: 0.9540 - val_loss: 0.4887 - val_acc: 0.8890\n",
      "Epoch 35/50\n",
      "149/150 [============================>.] - ETA: 0s - loss: 0.0980 - acc: 0.9624Epoch 1/50\n",
      "150/150 [==============================] - 60s 400ms/step - loss: 0.0979 - acc: 0.9623 - val_loss: 0.3495 - val_acc: 0.9100\n",
      "Epoch 36/50\n",
      "149/150 [============================>.] - ETA: 0s - loss: 0.1298 - acc: 0.9493Epoch 1/50\n",
      "150/150 [==============================] - 60s 399ms/step - loss: 0.1291 - acc: 0.9497 - val_loss: 0.3363 - val_acc: 0.9220\n"
     ]
    },
    {
     "name": "stdout",
     "output_type": "stream",
     "text": [
      "Epoch 37/50\n",
      "149/150 [============================>.] - ETA: 0s - loss: 0.1035 - acc: 0.9560Epoch 1/50\n",
      "150/150 [==============================] - 60s 403ms/step - loss: 0.1029 - acc: 0.9563 - val_loss: 0.3539 - val_acc: 0.9270\n",
      "Epoch 38/50\n",
      "149/150 [============================>.] - ETA: 0s - loss: 0.1165 - acc: 0.9523Epoch 1/50\n",
      "150/150 [==============================] - 61s 404ms/step - loss: 0.1160 - acc: 0.9527 - val_loss: 0.3751 - val_acc: 0.9170\n",
      "Epoch 39/50\n",
      "149/150 [============================>.] - ETA: 0s - loss: 0.0940 - acc: 0.9601Epoch 1/50\n",
      "150/150 [==============================] - 61s 403ms/step - loss: 0.0959 - acc: 0.9597 - val_loss: 0.2836 - val_acc: 0.9270\n",
      "Epoch 40/50\n",
      "149/150 [============================>.] - ETA: 0s - loss: 0.0985 - acc: 0.9621Epoch 1/50\n",
      "150/150 [==============================] - 61s 404ms/step - loss: 0.0980 - acc: 0.9623 - val_loss: 0.4612 - val_acc: 0.9140\n",
      "Epoch 41/50\n",
      "149/150 [============================>.] - ETA: 0s - loss: 0.0955 - acc: 0.9621Epoch 1/50\n",
      "150/150 [==============================] - 60s 403ms/step - loss: 0.0953 - acc: 0.9620 - val_loss: 0.3774 - val_acc: 0.9150\n",
      "Epoch 42/50\n",
      "149/150 [============================>.] - ETA: 0s - loss: 0.0985 - acc: 0.9648Epoch 1/50\n",
      "150/150 [==============================] - 62s 415ms/step - loss: 0.0990 - acc: 0.9643 - val_loss: 0.3927 - val_acc: 0.9160\n",
      "Epoch 43/50\n",
      "149/150 [============================>.] - ETA: 0s - loss: 0.0898 - acc: 0.9628Epoch 1/50\n",
      "150/150 [==============================] - 60s 398ms/step - loss: 0.0893 - acc: 0.9630 - val_loss: 0.3437 - val_acc: 0.9180\n",
      "Epoch 44/50\n",
      "149/150 [============================>.] - ETA: 0s - loss: 0.1085 - acc: 0.9557Epoch 1/50\n",
      "150/150 [==============================] - 68s 456ms/step - loss: 0.1080 - acc: 0.9560 - val_loss: 0.2439 - val_acc: 0.9290\n",
      "Epoch 45/50\n",
      "149/150 [============================>.] - ETA: 0s - loss: 0.0805 - acc: 0.9715Epoch 1/50\n",
      "150/150 [==============================] - 73s 485ms/step - loss: 0.0813 - acc: 0.9713 - val_loss: 0.3927 - val_acc: 0.9230\n",
      "Epoch 46/50\n",
      "149/150 [============================>.] - ETA: 0s - loss: 0.0856 - acc: 0.9668Epoch 1/50\n",
      "150/150 [==============================] - 72s 483ms/step - loss: 0.0867 - acc: 0.9667 - val_loss: 0.4648 - val_acc: 0.9210\n",
      "Epoch 47/50\n",
      "149/150 [============================>.] - ETA: 0s - loss: 0.0831 - acc: 0.9661Epoch 1/50\n",
      "150/150 [==============================] - 73s 485ms/step - loss: 0.0827 - acc: 0.9663 - val_loss: 0.4244 - val_acc: 0.9190\n",
      "Epoch 48/50\n",
      "149/150 [============================>.] - ETA: 0s - loss: 0.0709 - acc: 0.9742Epoch 1/50\n",
      "150/150 [==============================] - 74s 494ms/step - loss: 0.0713 - acc: 0.9740 - val_loss: 0.3774 - val_acc: 0.9250\n",
      "Epoch 49/50\n",
      "149/150 [============================>.] - ETA: 0s - loss: 0.0710 - acc: 0.9711Epoch 1/50\n",
      "150/150 [==============================] - 72s 483ms/step - loss: 0.0712 - acc: 0.9710 - val_loss: 0.3528 - val_acc: 0.9180\n",
      "Epoch 50/50\n",
      "149/150 [============================>.] - ETA: 0s - loss: 0.0995 - acc: 0.9685Epoch 1/50\n",
      "150/150 [==============================] - 73s 487ms/step - loss: 0.0990 - acc: 0.9687 - val_loss: 0.3235 - val_acc: 0.9220\n"
     ]
    }
   ],
   "source": [
    "# dimensions of our images.\n",
    "img_width, img_height = 224, 224\n",
    "\n",
    "train_data_dir = '/home/user/Документы/convnets/transfer-learning-keras/dataset/training'\n",
    "validation_data_dir = '/home/user/Документы/convnets/transfer-learning-keras/dataset/validation'\n",
    "nb_train_samples = 3000\n",
    "nb_validation_samples = 1000\n",
    "epochs = 50\n",
    "batch_size = 20\n",
    "\n",
    "if K.image_data_format() == 'channels_first':\n",
    "    input_shape = (3, img_width, img_height)\n",
    "else:\n",
    "    input_shape = (img_width, img_height, 3)\n",
    "\n",
    "model = Sequential()\n",
    "model.add(Conv2D(32, (3, 3), input_shape=input_shape))\n",
    "model.add(Activation('relu'))\n",
    "model.add(MaxPooling2D(pool_size=(2, 2)))\n",
    "\n",
    "model.add(Conv2D(32, (3, 3)))\n",
    "model.add(Activation('relu'))\n",
    "model.add(MaxPooling2D(pool_size=(2, 2)))\n",
    "\n",
    "model.add(Conv2D(64, (3, 3)))\n",
    "model.add(Activation('relu'))\n",
    "model.add(MaxPooling2D(pool_size=(2, 2)))\n",
    "\n",
    "model.add(Flatten())\n",
    "model.add(Dense(64))\n",
    "model.add(Activation('relu'))\n",
    "model.add(Dropout(0.5))\n",
    "model.add(Dense(1))\n",
    "model.add(Activation('sigmoid'))\n",
    "\n",
    "model.compile(loss='binary_crossentropy',\n",
    "              optimizer='adam',\n",
    "              metrics=['accuracy'])\n",
    "\n",
    "# this is the augmentation configuration we will use for training\n",
    "train_datagen = ImageDataGenerator(\n",
    "    rescale=1. / 255,\n",
    "    shear_range=0.2,\n",
    "    zoom_range=0.2,\n",
    "    horizontal_flip=True)\n",
    "\n",
    "# this is the augmentation configuration we will use for testing:\n",
    "# only rescaling\n",
    "test_datagen = ImageDataGenerator(rescale=1. / 255)\n",
    "\n",
    "train_generator = train_datagen.flow_from_directory(\n",
    "    train_data_dir,\n",
    "    target_size=(img_width, img_height),\n",
    "    batch_size=batch_size,\n",
    "    class_mode='binary')\n",
    "\n",
    "validation_generator = test_datagen.flow_from_directory(\n",
    "    validation_data_dir,\n",
    "    target_size=(img_width, img_height),\n",
    "    batch_size=batch_size,\n",
    "    class_mode='binary')\n",
    "\n",
    "history = model.fit_generator(\n",
    "    train_generator,\n",
    "    steps_per_epoch=nb_train_samples // batch_size,\n",
    "    epochs=epochs,\n",
    "    validation_data=validation_generator,\n",
    "    validation_steps=nb_validation_samples // batch_size)"
   ]
  },
  {
   "cell_type": "code",
   "execution_count": 6,
   "metadata": {
    "pycharm": {
     "is_executing": false,
     "name": "#%%\n"
    }
   },
   "outputs": [],
   "source": [
    "model.save('/home/user/models/simple/conv_two_class.h5')"
   ]
  },
  {
   "cell_type": "code",
   "execution_count": null,
   "outputs": [],
   "source": [
    "plot_model(model, to_file='model.png')\n",
    "plot_model(model, to_file='model.png')\n",
    "    # Plot training & validation accuracy values\n",
    "plt.plot(history.history['acc'])\n",
    "plt.plot(history.history['val_acc'])\n",
    "plt.title('Model accuracy')\n",
    "plt.ylabel('Accuracy')\n",
    "plt.xlabel('Epoch')\n",
    "plt.legend(['Train', 'Test'], loc='upper left')\n",
    "plt.show()\n",
    "\n",
    "    # Plot training & validation loss values\n",
    "plt.plot(history.history['loss'])\n",
    "plt.plot(history.history['val_loss'])\n",
    "plt.title('Model loss')\n",
    "plt.ylabel('Loss')\n",
    "plt.xlabel('Epoch')\n",
    "plt.legend(['Train', 'Test'], loc='upper left')\n",
    "plt.show()"
   ],
   "metadata": {
    "collapsed": false,
    "pycharm": {
     "name": "#%%\n"
    }
   }
  },
  {
   "cell_type": "code",
   "execution_count": null,
   "outputs": [],
   "source": [],
   "metadata": {
    "collapsed": false,
    "pycharm": {
     "name": "#%%\n"
    }
   }
  },
  {
   "cell_type": "code",
   "execution_count": 7,
   "metadata": {},
   "outputs": [
    {
     "name": "stdout",
     "output_type": "stream",
     "text": [
      "Failed to import pydot. You must install pydot and graphviz for `pydotprint` to work.\n",
      "Failed to import pydot. You must install pydot and graphviz for `pydotprint` to work.\n"
     ]
    },
    {
     "data": {
      "image/png": "[encoded data removed]",
      "text/plain": [
       "<Figure size 432x288 with 1 Axes>"
      ]
     },
     "metadata": {
      "needs_background": "light"
     },
     "output_type": "display_data"
    },
    {
     "data": {
      "image/png": "[encoded data removed]",
      "text/plain": [
       "<Figure size 432x288 with 1 Axes>"
      ]
     },
     "metadata": {
      "needs_background": "light"
     },
     "output_type": "display_data"
    }
   ],
   "source": []
  },
  {
   "cell_type": "code",
   "execution_count": null,
   "metadata": {},
   "outputs": [],
   "source": []
  }
 ],
 "metadata": {
  "kernelspec": {
   "display_name": "Python 3",
   "language": "python",
   "name": "python3"
  },
  "language_info": {
   "codemirror_mode": {
    "name": "ipython",
    "version": 3
   },
   "file_extension": ".py",
   "mimetype": "text/x-python",
   "name": "python",
   "nbconvert_exporter": "python",
   "pygments_lexer": "ipython3",
   "version": "3.7.4"
  },
  "pycharm": {
   "stem_cell": {
    "cell_type": "raw",
    "source": [],
    "metadata": {
     "collapsed": false
    }
   }
  }
 },
 "nbformat": 4,
 "nbformat_minor": 2
}
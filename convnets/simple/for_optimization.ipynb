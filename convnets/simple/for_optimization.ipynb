{
 "cells": [
  {
   "cell_type": "code",
   "execution_count": 1,
   "metadata": {},
   "outputs": [
    {
     "name": "stderr",
     "output_type": "stream",
     "text": [
      "Using TensorFlow backend.\n"
     ]
    }
   ],
   "source": [
    "import random\n",
    "from tensorflow.keras.applications import *\n",
    "from tensorflow.keras.callbacks import *\n",
    "from tensorflow.keras.initializers import *\n",
    "from tensorflow.keras.layers import *\n",
    "from tensorflow.keras.models import *\n",
    "from tensorflow.keras.optimizers import *\n",
    "from convnets.utilities import utils\n",
    "#import utils.ipynb\n",
    "import talos\n",
    "import numpy as np\n"
   ]
  },
  {
   "cell_type": "code",
   "execution_count": 2,
   "metadata": {},
   "outputs": [],
   "source": [
    "# dimensions of our images.\n",
    "img_width, img_height = 224, 224\n",
    "\n",
    "train_data_dir = '/home/mksnkv/Documents/classification/passport_2class_divided_small/train'\n",
    "validation_data_dir = '/home/mksnkv/Documents/classification/passport_2class_divided_small/validation'\n",
    "\n",
    "weigths_path = '/home/mksnkv/models/simple/conv4blocks_test.h5'\n",
    "structure_path = '/home/mksnkv/models/simple/conv4blocks_test.json'\n",
    "nb_train_samples = 1000 # 3000? \n",
    "nb_validation_samples = 300\n",
    "#nb_evaluation_samples = 560\n",
    "epochs = 100\n",
    "batch_size = 1"
   ]
  },
  {
   "cell_type": "code",
   "execution_count": 3,
   "metadata": {},
   "outputs": [],
   "source": [
    "def olgas_model_for_mishas_diploma_params(X_train, y_train, x_val, y_val, params):\n",
    "    model = Sequential()\n",
    "    \n",
    "    model.add(Conv2D(32, (3,3), input_shape=(224, 224, 3), activation='relu', kernel_initializer = params['kernel_initializer']))\n",
    "    model.add(MaxPooling2D(pool_size=(2, 2)))\n",
    "\n",
    "    model.add(Conv2D(64, (3, 3), activation='relu', kernel_initializer = params['kernel_initializer']))\n",
    "    model.add(MaxPooling2D(pool_size=(2, 2)))\n",
    "\n",
    "    model.add(Conv2D(128, (3, 3), activation='relu', kernel_initializer = params['kernel_initializer']))\n",
    "    model.add(MaxPooling2D(pool_size=(2, 2)))\n",
    "    \n",
    "    model.add(Conv2D(128, (3, 3), activation='relu', kernel_initializer = params['kernel_initializer']))\n",
    "    model.add(MaxPooling2D(pool_size=(2, 2)))\n",
    "    \n",
    "    model.add(Flatten())  # this converts our 3D feature maps to 1D feature vectors\n",
    "    model.add(Dense(units = 64, activation = 'relu'))\n",
    "    model.add(Dropout(params['dropout'])) #-----? \n",
    "    model.add(Dense(units = 1, activation = 'sigmoid'))\n",
    "    \n",
    "    # COMPILE\n",
    "    \n",
    "    model.compile(loss='binary_crossentropy',\n",
    "                  optimizer=params['optimizer'],\n",
    "                  metrics=['accuracy'])\n",
    "    \n",
    "    \n",
    "\n",
    "    history = model.fit(X_train, y_train,\n",
    "                        batch_size = params['batch_size'],\n",
    "                        epochs=params['epochs'],\n",
    "                        callbacks=[talos.utils.live()],\n",
    "                        validation_data=[x_val, y_val],\n",
    "                     )\n",
    "\n",
    "    return history, model"
   ]
  },
  {
   "cell_type": "code",
   "execution_count": 4,
   "metadata": {},
   "outputs": [
    {
     "name": "stdout",
     "output_type": "stream",
     "text": [
      "Found 1000 images belonging to 2 classes.\n",
      "Found 300 images belonging to 2 classes.\n"
     ]
    }
   ],
   "source": [
    "train_generator, val_generator = utils.init_generators(train_data_dir,\n",
    "                                                       validation_data_dir,\n",
    "                                                       img_width,\n",
    "                                                       img_height,\n",
    "                                                       1000,\n",
    "                                                       300)"
   ]
  },
  {
   "cell_type": "code",
   "execution_count": 5,
   "metadata": {},
   "outputs": [],
   "source": [
    "# X_train, y_train = [], []\n",
    "# for x in range(nb_train_samples):\n",
    "#     elem = train_generator.next()\n",
    "#     X_train.append(elem[0])\n",
    "#     y_train.append(elem[1])\n",
    "#"
   ]
  },
  {
   "cell_type": "code",
   "execution_count": 6,
   "metadata": {},
   "outputs": [],
   "source": [
    "# x_val, y_val = [], []\n",
    "# for x in range(nb_validation_samples):\n",
    "#     elem = val_generator.next()\n",
    "#     x_val.append(elem[0])\n",
    "#     y_val.append(elem[1])\n",
    "# y_val = [int(x) for x in y_val]\n",
    "# y_val = np.array(y_val)\n",
    "#"
   ]
  },
  {
   "cell_type": "code",
   "execution_count": 7,
   "metadata": {},
   "outputs": [],
   "source": [
    "# y_train = [int(x) for x in y_train]\n",
    "# y_train = np.array(y_train).reshape(100, 1)\n",
    "#"
   ]
  },
  {
   "cell_type": "code",
   "execution_count": 8,
   "metadata": {},
   "outputs": [],
   "source": [
    "# len(X_train), len(y_train)\n",
    "#"
   ]
  },
  {
   "cell_type": "code",
   "execution_count": 9,
   "metadata": {},
   "outputs": [],
   "source": [
    "# len(x_val), len(y_val)"
   ]
  },
  {
   "cell_type": "code",
   "execution_count": 10,
   "metadata": {},
   "outputs": [],
   "source": [
    "x_train, y_train = train_generator.next()\n",
    "x_val, y_val = val_generator.next()"
   ]
  },
  {
   "cell_type": "code",
   "execution_count": 13,
   "metadata": {},
   "outputs": [],
   "source": [
    "p = {'batch_size': [10, 15, 30],\n",
    "     'epochs': [20],\n",
    "     'dropout':(0, 0.2, 0.5),\n",
    "     'optimizer': ['RMSProp'],\n",
    "     'kernel_initializer': ['uniform','normal'],\n",
    "     }"
   ]
  },
  {
   "cell_type": "code",
   "execution_count": 14,
   "metadata": {
    "scrolled": false
   },
   "outputs": [
    {
     "data": {
      "image/png": "[encoded data removed]",
      "text/plain": [
       "<Figure size 864x576 with 2 Axes>"
      ]
     },
     "metadata": {
      "needs_background": "light"
     },
     "output_type": "display_data"
    },
    {
     "name": "stdout",
     "output_type": "stream",
     "text": [
      "\b\b\b\b\b\b\b\b\b\b\b\b\b\b\b\b\b\b\b\b\b\b\b\b\b\b\b\b\b\b\b\b\b\b\b\b\b\b\b\b\b\b\b\b\b\b\b\b\b\b\b\b\b\b\b\b\b\b\b\b\b\b\b\b\b\b\b\b\b\b\b\b\b\b\b\b\b\b\b\b\b\b\b\b\b\b\r",
      "1000/1000 [==============================] - 16s 16ms/sample - loss: 0.2858 - accuracy: 0.9130 - val_loss: 0.4442 - val_accuracy: 0.9167\n"
     ]
    },
    {
     "name": "stderr",
     "output_type": "stream",
     "text": [
      "\n",
      "100%|██████████| 6/6 [37:13<00:00, 372.23s/it]\u001B[A\n"
     ]
    }
   ],
   "source": [
    "t = talos.Scan(x=x_train,\n",
    "               y=y_train,\n",
    "               x_val = x_val,\n",
    "               y_val = y_val,\n",
    "               model=olgas_model_for_mishas_diploma_params,\n",
    "               params=p,\n",
    "               experiment_name=\"le misha's diploma\", \n",
    "               save_weights=True)"
   ]
  },
  {
   "cell_type": "code",
   "execution_count": 22,
   "metadata": {},
   "outputs": [
    {
     "ename": "FileExistsError",
     "evalue": "[Errno 17] File exists: \"le misha's diploma\"",
     "output_type": "error",
     "traceback": [
      "\u001B[0;31m---------------------------------------------------------------------------\u001B[0m",
      "\u001B[0;31mFileExistsError\u001B[0m                           Traceback (most recent call last)",
      "\u001B[0;32m<ipython-input-22-1a6133f4dd8e>\u001B[0m in \u001B[0;36m<module>\u001B[0;34m\u001B[0m\n\u001B[1;32m      1\u001B[0m \u001B[0;32mfrom\u001B[0m \u001B[0mtalos\u001B[0m \u001B[0;32mimport\u001B[0m \u001B[0mDeploy\u001B[0m\u001B[0;34m\u001B[0m\u001B[0;34m\u001B[0m\u001B[0m\n\u001B[1;32m      2\u001B[0m \u001B[0;34m\u001B[0m\u001B[0m\n\u001B[0;32m----> 3\u001B[0;31m \u001B[0mDeploy\u001B[0m\u001B[0;34m(\u001B[0m\u001B[0mt\u001B[0m\u001B[0;34m,\u001B[0m \u001B[0;34m\"le misha's diploma\"\u001B[0m\u001B[0;34m,\u001B[0m \u001B[0mmetric\u001B[0m\u001B[0;34m=\u001B[0m\u001B[0;34m'val_accuracy'\u001B[0m\u001B[0;34m)\u001B[0m\u001B[0;34m\u001B[0m\u001B[0;34m\u001B[0m\u001B[0m\n\u001B[0m",
      "\u001B[0;32m~/anaconda3/envs/classification/lib/python3.7/site-packages/talos/commands/deploy.py\u001B[0m in \u001B[0;36m__init__\u001B[0;34m(self, scan_object, model_name, metric, asc)\u001B[0m\n\u001B[1;32m     28\u001B[0m \u001B[0;34m\u001B[0m\u001B[0m\n\u001B[1;32m     29\u001B[0m         \u001B[0mself\u001B[0m\u001B[0;34m.\u001B[0m\u001B[0mscan_object\u001B[0m \u001B[0;34m=\u001B[0m \u001B[0mscan_object\u001B[0m\u001B[0;34m\u001B[0m\u001B[0;34m\u001B[0m\u001B[0m\n\u001B[0;32m---> 30\u001B[0;31m         \u001B[0mos\u001B[0m\u001B[0;34m.\u001B[0m\u001B[0mmkdir\u001B[0m\u001B[0;34m(\u001B[0m\u001B[0mmodel_name\u001B[0m\u001B[0;34m)\u001B[0m\u001B[0;34m\u001B[0m\u001B[0;34m\u001B[0m\u001B[0m\n\u001B[0m\u001B[1;32m     31\u001B[0m         \u001B[0mself\u001B[0m\u001B[0;34m.\u001B[0m\u001B[0mpath\u001B[0m \u001B[0;34m=\u001B[0m \u001B[0mmodel_name\u001B[0m \u001B[0;34m+\u001B[0m \u001B[0;34m'/'\u001B[0m \u001B[0;34m+\u001B[0m \u001B[0mmodel_name\u001B[0m\u001B[0;34m\u001B[0m\u001B[0;34m\u001B[0m\u001B[0m\n\u001B[1;32m     32\u001B[0m         \u001B[0mself\u001B[0m\u001B[0;34m.\u001B[0m\u001B[0mmodel_name\u001B[0m \u001B[0;34m=\u001B[0m \u001B[0mmodel_name\u001B[0m\u001B[0;34m\u001B[0m\u001B[0;34m\u001B[0m\u001B[0m\n",
      "\u001B[0;31mFileExistsError\u001B[0m: [Errno 17] File exists: \"le misha's diploma\""
     ]
    }
   ],
   "source": [
    "from talos import Deploy\n",
    "\n",
    "Deploy(t, \"le misha's diploma\", metric='val_accuracy')\n"
   ]
  },
  {
   "cell_type": "code",
   "execution_count": null,
   "metadata": {},
   "outputs": [],
   "source": []
  }
 ],
 "metadata": {
  "kernelspec": {
   "display_name": "Python 3",
   "language": "python",
   "name": "python3"
  },
  "language_info": {
   "codemirror_mode": {
    "name": "ipython",
    "version": 3
   },
   "file_extension": ".py",
   "mimetype": "text/x-python",
   "name": "python",
   "nbconvert_exporter": "python",
   "pygments_lexer": "ipython3",
   "version": "3.7.6"
  }
 },
 "nbformat": 4,
 "nbformat_minor": 4
}
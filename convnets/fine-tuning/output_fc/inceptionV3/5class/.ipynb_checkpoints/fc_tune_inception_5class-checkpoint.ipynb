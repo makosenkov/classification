{
 "cells": [
  {
   "cell_type": "code",
   "execution_count": 1,
   "metadata": {},
   "outputs": [],
   "source": [
    "import numpy as np\n",
    "from tensorflow.keras.preprocessing.image import ImageDataGenerator\n",
    "from tensorflow.keras.models import Sequential\n",
    "from tensorflow.keras.layers import Dropout, Flatten, Dense\n",
    "from tensorflow.keras import applications\n",
    "from tensorflow.keras.utils import to_categorical\n",
    "from tensorflow.keras import optimizers\n",
    "import matplotlib.pyplot as plt"
   ]
  },
  {
   "cell_type": "code",
   "execution_count": 2,
   "metadata": {},
   "outputs": [],
   "source": [
    "# dimensions of our images.\n",
    "img_width, img_height = 330, 467\n",
    "\n",
    "top_model_weights_path = '/home/mksnkv/models/top_tuned/bottleneck_fc_model_documents_5class.h5'\n",
    "train_data_dir = '/home/mksnkv/Documents/classification/documents_5class_divided/train'\n",
    "validation_data_dir = '/home/mksnkv/Documents/classification/documents_5class_divided/validation'\n",
    "evaluation_data_dir = '/home/mksnkv/Documents/classification/documents_5class_divided/evaluation'\n",
    "nb_train_samples = 3750\n",
    "nb_validation_samples = 1500\n",
    "nb_evaluation_samples = 1500\n",
    "epochs = 20\n",
    "batch_size = 50\n",
    "\n",
    "\n",
    "def save_bottlebeck_features():\n",
    "    datagen = ImageDataGenerator(rescale=1. / 255)\n",
    "\n",
    "    # build the VGG16 network\n",
    "    model = applications.VGG16(include_top=False, weights='imagenet')\n",
    "\n",
    "    generator = datagen.flow_from_directory(\n",
    "        train_data_dir,\n",
    "        target_size=(img_width, img_height),\n",
    "        batch_size=batch_size,\n",
    "        class_mode=None,\n",
    "        shuffle=True)\n",
    "    bottleneck_features_train = model.predict_generator(\n",
    "        generator, nb_train_samples // batch_size)\n",
    "    np.save(open('bottleneck_features_train.npy', 'wb'),\n",
    "            bottleneck_features_train)\n",
    "\n",
    "    generator = datagen.flow_from_directory(\n",
    "        validation_data_dir,\n",
    "        target_size=(img_width, img_height),\n",
    "        batch_size=batch_size,\n",
    "        class_mode=None,\n",
    "        shuffle=True)\n",
    "    bottleneck_features_validation = model.predict_generator(\n",
    "        generator, nb_validation_samples // batch_size)\n",
    "    np.save(open('bottleneck_features_validation.npy', 'wb'),\n",
    "            bottleneck_features_validation)"
   ]
  },
  {
   "cell_type": "code",
   "execution_count": 3,
   "metadata": {},
   "outputs": [],
   "source": [
    "def plot(model, history):\n",
    "    plot_model(model, to_file='model.png')\n",
    "    # Plot training & validation accuracy values\n",
    "    plt.plot(history.history['accuracy'])\n",
    "    plt.plot(history.history['val_accuracy'])\n",
    "    plt.title('Model accuracy')\n",
    "    plt.ylabel('Accuracy')\n",
    "    plt.xlabel('Epoch')\n",
    "    plt.legend(['Train', 'Test'], loc='upper left')\n",
    "    plt.show()\n",
    "\n",
    "    # Plot training & validation loss values\n",
    "    plt.plot(history.history['loss'])\n",
    "    plt.plot(history.history['val_loss'])\n",
    "    plt.title('Model loss')\n",
    "    plt.ylabel('Loss')\n",
    "    plt.xlabel('Epoch')\n",
    "    plt.legend(['Train', 'Test'], loc='upper left')\n",
    "    plt.show()"
   ]
  },
  {
   "cell_type": "code",
   "execution_count": 7,
   "metadata": {},
   "outputs": [],
   "source": [
    "def train_top_model():\n",
    "    train_data = np.load(open('bottleneck_features_train.npy', 'rb'))\n",
    "    print(train_data.shape)\n",
    "    train_labels = np.array(\n",
    "        [0] * (nb_train_samples // 5) + [1] * (nb_train_samples // 5) + [2] * (nb_train_samples // 5) + [3] * (nb_train_samples // 5) + [4] * (nb_train_samples // 5))\n",
    "    train_labels = to_categorical(train_labels)\n",
    "    print(train_labels.shape)\n",
    "    validation_data = np.load(open('bottleneck_features_validation.npy', 'rb'))\n",
    "    print(validation_data.shape)\n",
    "    validation_labels = np.array(\n",
    "        [0] * (nb_validation_samples // 5) + [1] * (nb_validation_samples // 5) + [2] * (nb_validation_samples // 5) + [3] * (nb_validation_samples // 5) + [4] * (nb_validation_samples // 5))\n",
    "    validation_labels = to_categorical(validation_labels)\n",
    "    print(validation_labels.shape)\n",
    "    model = Sequential()\n",
    "    model.add(Flatten(input_shape=train_data.shape[1:]))\n",
    "    model.add(Dense(256, activation='relu'))\n",
    "    model.add(Dropout(0.5))\n",
    "    model.add(Dense(5, activation='softmax'))\n",
    "\n",
    "    custom_adam = optimizers.Adam(lr = 0.0001)\n",
    "    model.compile(optimizer=custom_adam,\n",
    "                  loss='categorical_crossentropy', metrics=['accuracy'])\n",
    "\n",
    "    model.fit(train_data, train_labels,\n",
    "              epochs=epochs,\n",
    "              batch_size=batch_size,\n",
    "              validation_data=(validation_data, validation_labels))\n",
    "    model.save(top_model_weights_path)"
   ]
  },
  {
   "cell_type": "code",
   "execution_count": 5,
   "metadata": {},
   "outputs": [
    {
     "name": "stdout",
     "output_type": "stream",
     "text": [
      "Found 3750 images belonging to 5 classes.\n",
      "Found 1500 images belonging to 5 classes.\n"
     ]
    }
   ],
   "source": [
    "save_bottlebeck_features()"
   ]
  },
  {
   "cell_type": "code",
   "execution_count": 9,
   "metadata": {},
   "outputs": [
    {
     "name": "stdout",
     "output_type": "stream",
     "text": [
      "(3750, 10, 14, 512)\n",
      "(3750, 5)\n",
      "(1500, 10, 14, 512)\n",
      "(1500, 5)\n",
      "Train on 3750 samples, validate on 1500 samples\n",
      "Epoch 1/20\n",
      "3750/3750 [==============================] - 9s 2ms/sample - loss: 1.7156 - accuracy: 0.1923 - val_loss: 1.6092 - val_accuracy: 0.2073\n",
      "Epoch 2/20\n",
      "3750/3750 [==============================] - 9s 2ms/sample - loss: 1.6100 - accuracy: 0.1923 - val_loss: 1.6089 - val_accuracy: 0.2000\n",
      "Epoch 3/20\n",
      "3750/3750 [==============================] - 8s 2ms/sample - loss: 1.6094 - accuracy: 0.2032 - val_loss: 1.6094 - val_accuracy: 0.2013\n",
      "Epoch 4/20\n",
      "3750/3750 [==============================] - 9s 2ms/sample - loss: 1.6097 - accuracy: 0.1949 - val_loss: 1.6090 - val_accuracy: 0.2027\n",
      "Epoch 5/20\n",
      "3750/3750 [==============================] - 8s 2ms/sample - loss: 1.6089 - accuracy: 0.1987 - val_loss: 1.6094 - val_accuracy: 0.2000\n",
      "Epoch 6/20\n",
      "3750/3750 [==============================] - 9s 2ms/sample - loss: 1.6073 - accuracy: 0.2000 - val_loss: 1.6086 - val_accuracy: 0.2087\n",
      "Epoch 7/20\n",
      "3750/3750 [==============================] - 8s 2ms/sample - loss: 1.6068 - accuracy: 0.2069 - val_loss: 1.6086 - val_accuracy: 0.2133\n",
      "Epoch 8/20\n",
      "3750/3750 [==============================] - 9s 2ms/sample - loss: 1.6074 - accuracy: 0.2043 - val_loss: 1.6088 - val_accuracy: 0.2133\n",
      "Epoch 9/20\n",
      "3750/3750 [==============================] - 9s 2ms/sample - loss: 1.6081 - accuracy: 0.1963 - val_loss: 1.6084 - val_accuracy: 0.2113\n",
      "Epoch 10/20\n",
      "3750/3750 [==============================] - 9s 2ms/sample - loss: 1.6071 - accuracy: 0.1928 - val_loss: 1.6090 - val_accuracy: 0.2020\n",
      "Epoch 11/20\n",
      "3750/3750 [==============================] - 8s 2ms/sample - loss: 1.6071 - accuracy: 0.2048 - val_loss: 1.6091 - val_accuracy: 0.2053\n",
      "Epoch 12/20\n",
      "3750/3750 [==============================] - 8s 2ms/sample - loss: 1.6068 - accuracy: 0.2051 - val_loss: 1.6093 - val_accuracy: 0.2013\n",
      "Epoch 13/20\n",
      "3750/3750 [==============================] - 8s 2ms/sample - loss: 1.6074 - accuracy: 0.2032 - val_loss: 1.6088 - val_accuracy: 0.2073\n",
      "Epoch 14/20\n",
      "3750/3750 [==============================] - 8s 2ms/sample - loss: 1.6035 - accuracy: 0.2035 - val_loss: 1.6079 - val_accuracy: 0.2080\n",
      "Epoch 15/20\n",
      "3750/3750 [==============================] - 9s 2ms/sample - loss: 1.6031 - accuracy: 0.2000 - val_loss: 1.6095 - val_accuracy: 0.2000\n",
      "Epoch 16/20\n",
      "3750/3750 [==============================] - 9s 2ms/sample - loss: 1.6087 - accuracy: 0.1939 - val_loss: 1.6095 - val_accuracy: 0.2013\n",
      "Epoch 17/20\n",
      "3750/3750 [==============================] - 9s 2ms/sample - loss: 1.6067 - accuracy: 0.2005 - val_loss: 1.6093 - val_accuracy: 0.2020\n",
      "Epoch 18/20\n",
      "3750/3750 [==============================] - 9s 2ms/sample - loss: 1.6026 - accuracy: 0.2091 - val_loss: 1.6086 - val_accuracy: 0.2093\n",
      "Epoch 19/20\n",
      "3750/3750 [==============================] - 8s 2ms/sample - loss: 1.6042 - accuracy: 0.2059 - val_loss: 1.6108 - val_accuracy: 0.1920\n",
      "Epoch 20/20\n",
      "3750/3750 [==============================] - 8s 2ms/sample - loss: 1.6019 - accuracy: 0.2096 - val_loss: 1.6094 - val_accuracy: 0.2020\n"
     ]
    },
    {
     "ename": "TypeError",
     "evalue": "cannot unpack non-iterable NoneType object",
     "output_type": "error",
     "traceback": [
      "\u001b[0;31m---------------------------------------------------------------------------\u001b[0m",
      "\u001b[0;31mTypeError\u001b[0m                                 Traceback (most recent call last)",
      "\u001b[0;32m<ipython-input-9-f7c1f70dc104>\u001b[0m in \u001b[0;36m<module>\u001b[0;34m\u001b[0m\n\u001b[0;32m----> 1\u001b[0;31m \u001b[0mmodel\u001b[0m\u001b[0;34m,\u001b[0m \u001b[0mhistory\u001b[0m \u001b[0;34m=\u001b[0m \u001b[0mtrain_top_model\u001b[0m\u001b[0;34m(\u001b[0m\u001b[0;34m)\u001b[0m\u001b[0;34m\u001b[0m\u001b[0;34m\u001b[0m\u001b[0m\n\u001b[0m",
      "\u001b[0;31mTypeError\u001b[0m: cannot unpack non-iterable NoneType object"
     ]
    }
   ],
   "source": [
    "model, history = train_top_model()"
   ]
  },
  {
   "cell_type": "code",
   "execution_count": 10,
   "metadata": {},
   "outputs": [
    {
     "ename": "NameError",
     "evalue": "name 'model' is not defined",
     "output_type": "error",
     "traceback": [
      "\u001b[0;31m---------------------------------------------------------------------------\u001b[0m",
      "\u001b[0;31mNameError\u001b[0m                                 Traceback (most recent call last)",
      "\u001b[0;32m<ipython-input-10-0d6ea06d0fdd>\u001b[0m in \u001b[0;36m<module>\u001b[0;34m\u001b[0m\n\u001b[0;32m----> 1\u001b[0;31m \u001b[0mplot\u001b[0m\u001b[0;34m(\u001b[0m\u001b[0mmodel\u001b[0m\u001b[0;34m,\u001b[0m \u001b[0mhistory\u001b[0m\u001b[0;34m)\u001b[0m\u001b[0;34m\u001b[0m\u001b[0;34m\u001b[0m\u001b[0m\n\u001b[0m",
      "\u001b[0;31mNameError\u001b[0m: name 'model' is not defined"
     ]
    }
   ],
   "source": [
    "plot(model, history)"
   ]
  },
  {
   "cell_type": "code",
   "execution_count": null,
   "metadata": {},
   "outputs": [],
   "source": [
    "def evaluation(model):\n",
    "    datagen = ImageDataGenerator(rescale=1. / 255)\n",
    "    generator = datagen.flow_from_directory(\n",
    "        evaluation_data_dir,\n",
    "        target_size=(img_width, img_height),\n",
    "        batch_size=batch_size,\n",
    "        class_mode=None,\n",
    "        shuffle=False)\n",
    "    model1 = applications.VGG16(include_top=False, weights='imagenet')\n",
    "    features = model1.predict_generator(\n",
    "        generator, nb_evaluation_samples // batch_size)\n",
    "    return features"
   ]
  },
  {
   "cell_type": "code",
   "execution_count": null,
   "metadata": {},
   "outputs": [],
   "source": [
    "features = evaluation(model)"
   ]
  },
  {
   "cell_type": "code",
   "execution_count": null,
   "metadata": {},
   "outputs": [],
   "source": [
    "evaluation_labels = np.array(\n",
    "        [0] * (nb_evaluation_samples // 5) + [1] * (nb_evaluation_samples // 5) + [2] * (nb_evaluation_samples // 5) + [3] * (nb_evaluation_samples // 5) + [4] * (nb_evaluation_samples // 5))\n",
    "model.test_on_batch(features, evaluation_labels)"
   ]
  },
  {
   "cell_type": "code",
   "execution_count": null,
   "metadata": {},
   "outputs": [],
   "source": [
    "model.predict_on_batch(features)"
   ]
  }
 ],
 "metadata": {
  "kernelspec": {
   "display_name": "Python 3",
   "language": "python",
   "name": "python3"
  },
  "language_info": {
   "codemirror_mode": {
    "name": "ipython",
    "version": 3
   },
   "file_extension": ".py",
   "mimetype": "text/x-python",
   "name": "python",
   "nbconvert_exporter": "python",
   "pygments_lexer": "ipython3",
   "version": "3.7.6"
  },
  "pycharm": {
   "stem_cell": {
    "cell_type": "raw",
    "metadata": {
     "collapsed": false
    },
    "source": []
   }
  }
 },
 "nbformat": 4,
 "nbformat_minor": 2
}

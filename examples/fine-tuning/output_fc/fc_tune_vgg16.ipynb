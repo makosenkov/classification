{
 "cells": [
  {
   "cell_type": "code",
   "execution_count": 1,
   "metadata": {},
   "outputs": [],
   "source": [
    "import numpy as np\n",
    "from tensorflow.keras.preprocessing.image import ImageDataGenerator\n",
    "from tensorflow.keras.models import Sequential\n",
    "from tensorflow.keras.layers import Dropout, Flatten, Dense\n",
    "from tensorflow.keras import applications\n",
    "from tensorflow.keras.utils import to_categorical\n",
    "from tensorflow.keras import optimizers"
   ]
  },
  {
   "cell_type": "code",
   "execution_count": 27,
   "metadata": {},
   "outputs": [],
   "source": [
    "# dimensions of our images.\n",
    "img_width, img_height = 150, 150\n",
    "\n",
    "top_model_weights_path = '/home/models/top_tuned/bottleneck_fc_model.h5'\n",
    "train_data_dir = '/home/user/Документы/convnets/data/train'\n",
    "validation_data_dir = '/home/user/Документы/convnets/data/validation'\n",
    "nb_train_samples = 6500\n",
    "nb_validation_samples = 2500\n",
    "epochs = 20\n",
    "batch_size = 20\n",
    "\n",
    "\n",
    "def save_bottlebeck_features():\n",
    "    datagen = ImageDataGenerator(rescale=1. / 255)\n",
    "\n",
    "    # build the VGG16 network\n",
    "    model = applications.VGG16(include_top=False, weights='imagenet')\n",
    "\n",
    "    generator = datagen.flow_from_directory(\n",
    "        train_data_dir,\n",
    "        target_size=(img_width, img_height),\n",
    "        batch_size=batch_size,\n",
    "        class_mode=None,\n",
    "        shuffle=False)\n",
    "    bottleneck_features_train = model.predict_generator(\n",
    "        generator, nb_train_samples // batch_size)\n",
    "    np.save(open('bottleneck_features_train.npy', 'wb'),\n",
    "            bottleneck_features_train)\n",
    "\n",
    "    generator = datagen.flow_from_directory(\n",
    "        validation_data_dir,\n",
    "        target_size=(img_width, img_height),\n",
    "        batch_size=batch_size,\n",
    "        class_mode=None,\n",
    "        shuffle=False)\n",
    "    bottleneck_features_validation = model.predict_generator(\n",
    "        generator, nb_validation_samples // batch_size)\n",
    "    np.save(open('bottleneck_features_validation.npy', 'wb'),\n",
    "            bottleneck_features_validation)"
   ]
  },
  {
   "cell_type": "code",
   "execution_count": 25,
   "metadata": {},
   "outputs": [],
   "source": [
    "def train_top_model():\n",
    "    train_data = np.load(open('bottleneck_features_train.npy', 'rb'))\n",
    "    train_labels = np.array(\n",
    "        [0] * (nb_train_samples // 5) + [1] * (nb_train_samples // 5) + [2] * (nb_train_samples // 5) + [3] * (nb_train_samples // 5) + [4] * (nb_train_samples // 5))\n",
    "    train_labels = to_categorical(train_labels)\n",
    "    validation_data = np.load(open('bottleneck_features_validation.npy', 'rb'))\n",
    "    validation_labels = np.array(\n",
    "        [0] * (nb_validation_samples // 5) + [1] * (nb_validation_samples // 5) + [2] * (nb_validation_samples // 5) + [3] * (nb_validation_samples // 5) + [4] * (nb_validation_samples // 5))\n",
    "    validation_labels = to_categorical(validation_labels)\n",
    "\n",
    "    model = Sequential()\n",
    "    model.add(Flatten(input_shape=train_data.shape[1:]))\n",
    "    model.add(Dense(256, activation='relu'))\n",
    "    model.add(Dropout(0.5))\n",
    "    model.add(Dense(5, activation='softmax'))\n",
    "\n",
    "    custom_adam = optimizers.Adam(lr = 0.00001)\n",
    "    model.compile(optimizer=custom_adam,\n",
    "                  loss='categorical_crossentropy', metrics=['accuracy'])\n",
    "\n",
    "    model.fit(train_data, train_labels,\n",
    "              epochs=epochs,\n",
    "              batch_size=batch_size,\n",
    "              validation_data=(validation_data, validation_labels))\n",
    "    model.save(top_model_weights_path)"
   ]
  },
  {
   "cell_type": "code",
   "execution_count": 28,
   "metadata": {},
   "outputs": [
    {
     "name": "stdout",
     "output_type": "stream",
     "text": [
      "Found 6500 images belonging to 5 classes.\n",
      "Found 2500 images belonging to 5 classes.\n"
     ]
    }
   ],
   "source": [
    "save_bottlebeck_features()"
   ]
  },
  {
   "cell_type": "code",
   "execution_count": 29,
   "metadata": {},
   "outputs": [
    {
     "name": "stdout",
     "output_type": "stream",
     "text": [
      "Train on 6500 samples, validate on 2500 samples\n",
      "Epoch 1/20\n",
      "6500/6500 [==============================] - 4s 637us/sample - loss: 1.3227 - accuracy: 0.4655 - val_loss: 0.9034 - val_accuracy: 0.7388\n",
      "Epoch 2/20\n",
      "6500/6500 [==============================] - 3s 508us/sample - loss: 0.8722 - accuracy: 0.6957 - val_loss: 0.7241 - val_accuracy: 0.7852\n",
      "Epoch 3/20\n",
      "6500/6500 [==============================] - 4s 574us/sample - loss: 0.7171 - accuracy: 0.7546 - val_loss: 0.6509 - val_accuracy: 0.7996\n",
      "Epoch 4/20\n",
      "6500/6500 [==============================] - 3s 537us/sample - loss: 0.6344 - accuracy: 0.7840 - val_loss: 0.6112 - val_accuracy: 0.8136\n",
      "Epoch 5/20\n",
      "6500/6500 [==============================] - 4s 586us/sample - loss: 0.5819 - accuracy: 0.8031 - val_loss: 0.5852 - val_accuracy: 0.8184\n",
      "Epoch 6/20\n",
      "6500/6500 [==============================] - 3s 533us/sample - loss: 0.5434 - accuracy: 0.8191 - val_loss: 0.5669 - val_accuracy: 0.8288\n",
      "Epoch 7/20\n",
      "6500/6500 [==============================] - 4s 576us/sample - loss: 0.5090 - accuracy: 0.8292 - val_loss: 0.5546 - val_accuracy: 0.8360\n",
      "Epoch 8/20\n",
      "6500/6500 [==============================] - 4s 550us/sample - loss: 0.4777 - accuracy: 0.8425 - val_loss: 0.5462 - val_accuracy: 0.8404\n",
      "Epoch 9/20\n",
      "6500/6500 [==============================] - 4s 636us/sample - loss: 0.4589 - accuracy: 0.8505 - val_loss: 0.5394 - val_accuracy: 0.8420\n",
      "Epoch 10/20\n",
      "6500/6500 [==============================] - 4s 579us/sample - loss: 0.4300 - accuracy: 0.8615 - val_loss: 0.5313 - val_accuracy: 0.8396\n",
      "Epoch 11/20\n",
      "6500/6500 [==============================] - 4s 592us/sample - loss: 0.4153 - accuracy: 0.8649 - val_loss: 0.5220 - val_accuracy: 0.8436\n",
      "Epoch 12/20\n",
      "6500/6500 [==============================] - 4s 619us/sample - loss: 0.3975 - accuracy: 0.8735 - val_loss: 0.5164 - val_accuracy: 0.8456\n",
      "Epoch 13/20\n",
      "6500/6500 [==============================] - 4s 617us/sample - loss: 0.3797 - accuracy: 0.8758 - val_loss: 0.5159 - val_accuracy: 0.8480\n",
      "Epoch 14/20\n",
      "6500/6500 [==============================] - 4s 596us/sample - loss: 0.3690 - accuracy: 0.8785 - val_loss: 0.5095 - val_accuracy: 0.8512\n",
      "Epoch 15/20\n",
      "6500/6500 [==============================] - 4s 573us/sample - loss: 0.3510 - accuracy: 0.8891 - val_loss: 0.5066 - val_accuracy: 0.8532\n",
      "Epoch 16/20\n",
      "6500/6500 [==============================] - 4s 567us/sample - loss: 0.3348 - accuracy: 0.8977 - val_loss: 0.5067 - val_accuracy: 0.8500\n",
      "Epoch 17/20\n",
      "6500/6500 [==============================] - 4s 551us/sample - loss: 0.3218 - accuracy: 0.8968 - val_loss: 0.5091 - val_accuracy: 0.8488\n",
      "Epoch 18/20\n",
      "6500/6500 [==============================] - 4s 634us/sample - loss: 0.3146 - accuracy: 0.9048 - val_loss: 0.5014 - val_accuracy: 0.8480\n",
      "Epoch 19/20\n",
      "6500/6500 [==============================] - 4s 589us/sample - loss: 0.2957 - accuracy: 0.9083 - val_loss: 0.5008 - val_accuracy: 0.8528\n",
      "Epoch 20/20\n",
      "6500/6500 [==============================] - 3s 518us/sample - loss: 0.2936 - accuracy: 0.9058 - val_loss: 0.5009 - val_accuracy: 0.8520\n"
     ]
    }
   ],
   "source": [
    "train_top_model()"
   ]
  },
  {
   "cell_type": "code",
   "execution_count": null,
   "metadata": {},
   "outputs": [],
   "source": []
  }
 ],
 "metadata": {
  "kernelspec": {
   "display_name": "Python 3",
   "language": "python",
   "name": "python3"
  },
  "language_info": {
   "codemirror_mode": {
    "name": "ipython",
    "version": 3
   },
   "file_extension": ".py",
   "mimetype": "text/x-python",
   "name": "python",
   "nbconvert_exporter": "python",
   "pygments_lexer": "ipython3",
   "version": "3.7.6"
  },
  "pycharm": {
   "stem_cell": {
    "cell_type": "raw",
    "source": [],
    "metadata": {
     "collapsed": false
    }
   }
  }
 },
 "nbformat": 4,
 "nbformat_minor": 2
}
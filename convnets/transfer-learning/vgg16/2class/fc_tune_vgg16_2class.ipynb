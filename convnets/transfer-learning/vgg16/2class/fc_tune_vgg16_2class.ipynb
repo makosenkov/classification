{
 "cells": [
  {
   "cell_type": "code",
   "execution_count": 9,
   "metadata": {},
   "outputs": [],
   "source": [
    "from tensorflow.keras.applications import *\n",
    "from tensorflow.keras.callbacks import *\n",
    "from tensorflow.keras.initializers import *\n",
    "from tensorflow.keras.layers import *\n",
    "from tensorflow.keras.models import *\n",
    "from tensorflow.keras.optimizers import *\n",
    "from convnets.utilities import utils"
   ]
  },
  {
   "cell_type": "code",
   "execution_count": 2,
   "metadata": {},
   "outputs": [],
   "source": [
    "# dimensions of our images.\n",
    "img_width, img_height = 224, 224\n",
    "\n",
    "# structure_path = '/home/mksnkv/models/top_tuned/vgg16/structure_passport.json'\n",
    "weights_path_mcp = '/home/mksnkv/models/top_tuned/vgg16/snils_model_mcp.h5'\n",
    "train_data_dir = '/home/mksnkv/Documents/classification/snils_2class_divided_clean/train'\n",
    "validation_data_dir = '/home/mksnkv/Documents/classification/snils_2class_divided_clean/validation'\n",
    "nb_train_samples = 480\n",
    "nb_validation_samples = 130\n",
    "nb_evaluation_samples = 780\n",
    "epochs = 10\n",
    "batch_size = 10"
   ]
  },
  {
   "cell_type": "code",
   "execution_count": 3,
   "metadata": {},
   "outputs": [],
   "source": [
    "def train_top_model():\n",
    "    base_model = VGG16(include_top=False, weights='imagenet', input_shape=(img_width, img_height, 3))\n",
    "    model = Sequential()\n",
    "    \n",
    "    model.add(base_model)\n",
    "    model.add(Flatten())\n",
    "    model.add(Dense(256, activation='relu'))\n",
    "    model.add(Dropout(0.5))\n",
    "    model.add(Dense(1, activation='sigmoid'))\n",
    "\n",
    "    for layer in base_model.layers[:-4]:\n",
    "        layer.trainable = False\n",
    "#     for layer in base_model.layers:\n",
    "#         print(layer)\n",
    "    model.summary()\n",
    "    opt = Adam(learning_rate=1e-5)\n",
    "    model.compile(optimizer=opt,\n",
    "                  loss='binary_crossentropy', metrics=['accuracy'])\n",
    "\n",
    "    mcp_save = ModelCheckpoint(weights_path_mcp, save_best_only=True, monitor='val_loss', mode='min')\n",
    "    es = EarlyStopping(monitor='val_loss', mode='min', verbose=1)\n",
    "    history = model.fit_generator(\n",
    "            generator=train_generator,\n",
    "            steps_per_epoch=nb_train_samples // batch_size,\n",
    "            epochs=epochs,\n",
    "             callbacks = [mcp_save],\n",
    "            validation_data=val_generator,\n",
    "            validation_steps=nb_validation_samples // batch_size)\n",
    "    return model, history"
   ]
  },
  {
   "cell_type": "code",
   "execution_count": 4,
   "metadata": {},
   "outputs": [
    {
     "name": "stdout",
     "output_type": "stream",
     "text": [
      "Found 490 images belonging to 2 classes.\n",
      "Found 130 images belonging to 2 classes.\n"
     ]
    }
   ],
   "source": [
    "train_generator, val_generator = utils.init_generators(train_data_dir, \n",
    "                                                       validation_data_dir, \n",
    "                                                       img_width, \n",
    "                                                       img_height, \n",
    "                                                       batch_size,\n",
    "                                                       batch_size)"
   ]
  },
  {
   "cell_type": "code",
   "execution_count": 5,
   "metadata": {},
   "outputs": [
    {
     "name": "stdout",
     "output_type": "stream",
     "text": [
      "Model: \"sequential\"\n",
      "_________________________________________________________________\n",
      "Layer (type)                 Output Shape              Param #   \n",
      "=================================================================\n",
      "vgg16 (Model)                (None, 7, 7, 512)         14714688  \n",
      "_________________________________________________________________\n",
      "flatten (Flatten)            (None, 25088)             0         \n",
      "_________________________________________________________________\n",
      "dense (Dense)                (None, 256)               6422784   \n",
      "_________________________________________________________________\n",
      "dropout (Dropout)            (None, 256)               0         \n",
      "_________________________________________________________________\n",
      "dense_1 (Dense)              (None, 1)                 257       \n",
      "=================================================================\n",
      "Total params: 21,137,729\n",
      "Trainable params: 13,502,465\n",
      "Non-trainable params: 7,635,264\n",
      "_________________________________________________________________\n",
      "WARNING:tensorflow:From <ipython-input-3-170283f14ed5>:28: Model.fit_generator (from tensorflow.python.keras.engine.training) is deprecated and will be removed in a future version.\n",
      "Instructions for updating:\n",
      "Please use Model.fit, which supports generators.\n",
      "WARNING:tensorflow:sample_weight modes were coerced from\n",
      "  ...\n",
      "    to  \n",
      "  ['...']\n",
      "WARNING:tensorflow:sample_weight modes were coerced from\n",
      "  ...\n",
      "    to  \n",
      "  ['...']\n",
      "Train for 48 steps, validate for 13 steps\n",
      "Epoch 1/10\n",
      "48/48 [==============================] - 50s 1s/step - loss: 0.4428 - accuracy: 0.8000 - val_loss: 0.2081 - val_accuracy: 0.9308\n",
      "Epoch 2/10\n",
      "48/48 [==============================] - 50s 1s/step - loss: 0.1814 - accuracy: 0.9417 - val_loss: 0.1365 - val_accuracy: 0.9615\n",
      "Epoch 3/10\n",
      "48/48 [==============================] - 50s 1s/step - loss: 0.1018 - accuracy: 0.9750 - val_loss: 0.1123 - val_accuracy: 0.9692\n",
      "Epoch 4/10\n",
      "48/48 [==============================] - 49s 1s/step - loss: 0.0634 - accuracy: 0.9854 - val_loss: 0.1156 - val_accuracy: 0.9692\n",
      "Epoch 5/10\n",
      "48/48 [==============================] - 49s 1s/step - loss: 0.0446 - accuracy: 0.9854 - val_loss: 0.0855 - val_accuracy: 0.9692\n",
      "Epoch 6/10\n",
      "48/48 [==============================] - 48s 1s/step - loss: 0.0239 - accuracy: 0.9958 - val_loss: 0.0645 - val_accuracy: 0.9692\n",
      "Epoch 7/10\n",
      "48/48 [==============================] - 50s 1s/step - loss: 0.0188 - accuracy: 0.9958 - val_loss: 0.0454 - val_accuracy: 0.9923\n",
      "Epoch 8/10\n",
      "48/48 [==============================] - 48s 1s/step - loss: 0.0168 - accuracy: 0.9958 - val_loss: 0.0406 - val_accuracy: 0.9846\n",
      "Epoch 9/10\n",
      "48/48 [==============================] - 49s 1s/step - loss: 0.0166 - accuracy: 0.9937 - val_loss: 0.0659 - val_accuracy: 0.9846\n",
      "Epoch 10/10\n",
      "48/48 [==============================] - 49s 1s/step - loss: 0.0140 - accuracy: 0.9958 - val_loss: 0.0260 - val_accuracy: 0.9846\n"
     ]
    }
   ],
   "source": [
    "model, history = train_top_model()"
   ]
  },
  {
   "cell_type": "code",
   "execution_count": 6,
   "metadata": {},
   "outputs": [
    {
     "name": "stdout",
     "output_type": "stream",
     "text": [
      "dict_keys(['loss', 'accuracy', 'val_loss', 'val_accuracy'])\n"
     ]
    },
    {
     "data": {
      "image/png": "[encoded data removed]",
      "text/plain": [
       "<Figure size 432x288 with 1 Axes>"
      ]
     },
     "metadata": {
      "needs_background": "light"
     },
     "output_type": "display_data"
    },
    {
     "data": {
      "image/png": "[encoded data removed]",
      "text/plain": [
       "<Figure size 432x288 with 1 Axes>"
      ]
     },
     "metadata": {
      "needs_background": "light"
     },
     "output_type": "display_data"
    }
   ],
   "source": [
    "utils.plot(history)"
   ]
  },
  {
   "cell_type": "code",
   "execution_count": 7,
   "metadata": {},
   "outputs": [],
   "source": [
    "evaluation_data_dir = '/home/mksnkv/Documents/classification/passport_2class_divided_clean/evaluation'\n",
    "def evaluation(model):\n",
    "    datagen = ImageDataGenerator(rescale=1. / 255)\n",
    "    generator = datagen.flow_from_directory(\n",
    "        evaluation_data_dir,\n",
    "        target_size=(img_width, img_height),\n",
    "        batch_size=1,\n",
    "        class_mode='binary',\n",
    "        shuffle=False)\n",
    "    model1 = load_model(weights_path_mcp)\n",
    "    model1.evaluate(\n",
    "        generator, steps = 366 // batch_size)\n",
    "    model1.predict(\n",
    "        generator, steps = 366 // batch_size)"
   ]
  },
  {
   "cell_type": "code",
   "execution_count": 8,
   "metadata": {},
   "outputs": [
    {
     "ename": "NameError",
     "evalue": "name 'ImageDataGenerator' is not defined",
     "output_type": "error",
     "traceback": [
      "\u001b[0;31m---------------------------------------------------------------------------\u001b[0m",
      "\u001b[0;31mNameError\u001b[0m                                 Traceback (most recent call last)",
      "\u001b[0;32m<ipython-input-8-c496f03f4132>\u001b[0m in \u001b[0;36m<module>\u001b[0;34m\u001b[0m\n\u001b[0;32m----> 1\u001b[0;31m \u001b[0mevaluation\u001b[0m\u001b[0;34m(\u001b[0m\u001b[0mmodel\u001b[0m\u001b[0;34m)\u001b[0m\u001b[0;34m\u001b[0m\u001b[0;34m\u001b[0m\u001b[0m\n\u001b[0m",
      "\u001b[0;32m<ipython-input-7-89e59249e377>\u001b[0m in \u001b[0;36mevaluation\u001b[0;34m(model)\u001b[0m\n\u001b[1;32m      1\u001b[0m \u001b[0mevaluation_data_dir\u001b[0m \u001b[0;34m=\u001b[0m \u001b[0;34m'/home/mksnkv/Documents/classification/passport_2class_divided_clean/evaluation'\u001b[0m\u001b[0;34m\u001b[0m\u001b[0;34m\u001b[0m\u001b[0m\n\u001b[1;32m      2\u001b[0m \u001b[0;32mdef\u001b[0m \u001b[0mevaluation\u001b[0m\u001b[0;34m(\u001b[0m\u001b[0mmodel\u001b[0m\u001b[0;34m)\u001b[0m\u001b[0;34m:\u001b[0m\u001b[0;34m\u001b[0m\u001b[0;34m\u001b[0m\u001b[0m\n\u001b[0;32m----> 3\u001b[0;31m     \u001b[0mdatagen\u001b[0m \u001b[0;34m=\u001b[0m \u001b[0mImageDataGenerator\u001b[0m\u001b[0;34m(\u001b[0m\u001b[0mrescale\u001b[0m\u001b[0;34m=\u001b[0m\u001b[0;36m1.\u001b[0m \u001b[0;34m/\u001b[0m \u001b[0;36m255\u001b[0m\u001b[0;34m)\u001b[0m\u001b[0;34m\u001b[0m\u001b[0;34m\u001b[0m\u001b[0m\n\u001b[0m\u001b[1;32m      4\u001b[0m     generator = datagen.flow_from_directory(\n\u001b[1;32m      5\u001b[0m         \u001b[0mevaluation_data_dir\u001b[0m\u001b[0;34m,\u001b[0m\u001b[0;34m\u001b[0m\u001b[0;34m\u001b[0m\u001b[0m\n",
      "\u001b[0;31mNameError\u001b[0m: name 'ImageDataGenerator' is not defined"
     ]
    }
   ],
   "source": [
    "evaluation(model)"
   ]
  },
  {
   "cell_type": "code",
   "execution_count": null,
   "metadata": {},
   "outputs": [],
   "source": [
    "evaluation_labels = np.array(\n",
    "        [0] * (nb_evaluation_samples // 2) + [1] * (nb_evaluation_samples // 2))\n",
    "model.test_on_batch(features, evaluation_labels)"
   ]
  },
  {
   "cell_type": "code",
   "execution_count": null,
   "metadata": {},
   "outputs": [],
   "source": [
    "model.predict_on_batch(features)"
   ]
  },
  {
   "cell_type": "code",
   "execution_count": null,
   "metadata": {},
   "outputs": [],
   "source": []
  }
 ],
 "metadata": {
  "kernelspec": {
   "display_name": "Python 3",
   "language": "python",
   "name": "python3"
  },
  "language_info": {
   "codemirror_mode": {
    "name": "ipython",
    "version": 3
   },
   "file_extension": ".py",
   "mimetype": "text/x-python",
   "name": "python",
   "nbconvert_exporter": "python",
   "pygments_lexer": "ipython3",
   "version": "3.7.6"
  },
  "pycharm": {
   "stem_cell": {
    "cell_type": "raw",
    "metadata": {
     "collapsed": false
    },
    "source": []
   }
  }
 },
 "nbformat": 4,
 "nbformat_minor": 2
}

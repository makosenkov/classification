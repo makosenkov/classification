{
 "cells": [
  {
   "cell_type": "code",
   "execution_count": 7,
   "metadata": {},
   "outputs": [
    {
     "name": "stdout",
     "output_type": "stream",
     "text": [
      "mistakes rate: 0.9975062344139651\n",
      "mistakes rate: 0.9900249376558603\n",
      "mistakes rate: 0.9800498753117207\n",
      "mistakes rate: 0.9775561097256857\n",
      "mistakes rate: 0.9650872817955112\n",
      "mistakes rate: 0.9650872817955112\n",
      "mistakes rate: 0.9625935162094763\n",
      "mistakes rate: 0.9576059850374065\n",
      "mistakes rate: 0.9551122194513716\n",
      "mistakes rate: 0.9501246882793017\n",
      "mistakes rate: 0.9501246882793017\n",
      "mistakes rate: 0.942643391521197\n",
      "mistakes rate: 0.940149625935162\n",
      "mistakes rate: 0.9376558603491272\n",
      "mistakes rate: 0.9276807980049875\n",
      "mistakes rate: 0.9177057356608479\n",
      "mistakes rate: 0.9102244389027432\n",
      "mistakes rate: 0.9077306733167082\n",
      "mistakes rate: 0.9077306733167082\n",
      "mistakes rate: 0.9052369077306733\n",
      "done\n"
     ]
    }
   ],
   "source": [
    "from tensorflow.keras.models import load_model\n",
    "import cv2\n",
    "import tensorflow as tf\n",
    "import numpy as np\n",
    "import os\n",
    "import tensorflow.keras.preprocessing.image as image\n",
    "from tensorflow.keras import applications\n",
    "\n",
    "model = load_model('/home/user/models/top_tuned/bottleneck_fc_model_2class.h5')\n",
    "\n",
    "model.compile(loss='binary_crossentropy',\n",
    "              optimizer='adam',\n",
    "              metrics=['accuracy'])\n",
    "val_food_dir = '/home/user/Документы/convnets/transfer-learning-keras/dataset/evaluation/food/'\n",
    "val_non_food_dir = '/home/user/Документы/convnets/transfer-learning-keras/dataset/evaluation/non-food'\n",
    "\n",
    "img_width, img_height = 224, 224\n",
    "\n",
    "model1 = applications.VGG16(include_top=False, weights='imagenet')\n",
    "error_counter = 0\n",
    "samples_count = 401\n",
    "for i in range(1,samples_count):\n",
    "    img = image.load_img(val_food_dir + '1_' + str(i) + '.jpg', target_size=(img_width, img_height))\n",
    "    x = image.img_to_array(img)\n",
    "    x = np.expand_dims(x, axis=0)\n",
    "    features = model1.predict(x)\n",
    "\n",
    "    # this is where you get your prediction\n",
    "    prediction = model.predict(features)\n",
    "    if prediction[0][0] > 0.3:\n",
    "        error_counter += 1\n",
    "    if (error_counter != 0 and (i % 20 == 0)):\n",
    "        print('mistakes rate: ' + str(1 - error_counter / samples_count))\n",
    "print('done')"
   ]
  },
  {
   "cell_type": "code",
   "execution_count": null,
   "metadata": {},
   "outputs": [],
   "source": []
  }
 ],
 "metadata": {
  "kernelspec": {
   "display_name": "Python 3",
   "language": "python",
   "name": "python3"
  },
  "language_info": {
   "codemirror_mode": {
    "name": "ipython",
    "version": 3
   },
   "file_extension": ".py",
   "mimetype": "text/x-python",
   "name": "python",
   "nbconvert_exporter": "python",
   "pygments_lexer": "ipython3",
   "version": "3.7.6"
  }
 },
 "nbformat": 4,
 "nbformat_minor": 2
}

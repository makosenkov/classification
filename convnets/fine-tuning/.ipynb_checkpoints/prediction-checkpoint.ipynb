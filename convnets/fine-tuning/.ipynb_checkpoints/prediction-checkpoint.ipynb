{
 "cells": [
  {
   "cell_type": "code",
   "execution_count": 3,
   "metadata": {},
   "outputs": [
    {
     "name": "stdout",
     "output_type": "stream",
     "text": [
      "[[1. 0. 0. 0. 0.]]\n",
      "бабочка\n"
     ]
    }
   ],
   "source": [
    "from tensorflow.keras.models import load_model\n",
    "import tensorflow as tf\n",
    "import numpy as np\n",
    "import os\n",
    "import tensorflow.keras.preprocessing.image as image\n",
    "from tensorflow.keras import applications\n",
    "\n",
    "model = load_model('/home/mksnkv/models/top_tuned/bottleneck_fc_model.h5')\n",
    "\n",
    "model.compile(loss='categorical_crossentropy',\n",
    "              optimizer='adam',\n",
    "              metrics=['accuracy'])\n",
    "val_cat_dir = '/home/mksnkv/Documents/classification/class/raw-img/cats/'\n",
    "val_but_dir = '/home/mksnkv/Documents/classification/class/raw-img/butterflies/'\n",
    "val_cow_dir = '/home/mksnkv/Documents/classification/class/raw-img/cows/'\n",
    "val_chicken_dir = '/home/mksnkv/Documents/classification/class/raw-img/chicken/'\n",
    "val_dog_dir = '/home/mksnkv/Documents/classification/class/raw-img/dogs/'\n",
    "\n",
    "img_width, img_height = 150, 150\n",
    "\n",
    "model1 = applications.VGG16(include_top=False, weights='imagenet')\n",
    "\n",
    "img = image.load_img('but1.jpg', target_size=(img_width, img_height))\n",
    "x = image.img_to_array(img)\n",
    "x = np.expand_dims(x, axis=0)\n",
    "features = model1.predict(x)\n",
    "\n",
    "prediction = model.predict(features)\n",
    "\n",
    "print(prediction)\n",
    "if prediction[0][0] != 0:\n",
    "    print('бабочка')\n",
    "elif prediction[0][1] != 0:\n",
    "    print('котяра')\n",
    "elif prediction[0][2] != 0:\n",
    "    print('курица')\n",
    "elif prediction[0][3] != 0:\n",
    "    print('корова')\n",
    "elif prediction[0][4] != 0:\n",
    "    print('псина')"
   ]
  },
  {
   "cell_type": "code",
   "execution_count": null,
   "metadata": {},
   "outputs": [],
   "source": []
  }
 ],
 "metadata": {
  "kernelspec": {
   "display_name": "Python 3",
   "language": "python",
   "name": "python3"
  },
  "language_info": {
   "codemirror_mode": {
    "name": "ipython",
    "version": 3
   },
   "file_extension": ".py",
   "mimetype": "text/x-python",
   "name": "python",
   "nbconvert_exporter": "python",
   "pygments_lexer": "ipython3",
   "version": "3.7.6"
  }
 },
 "nbformat": 4,
 "nbformat_minor": 2
}

{
 "cells": [
  {
   "cell_type": "code",
   "execution_count": 5,
   "metadata": {},
   "outputs": [],
   "source": [
    "import os\n",
    "\n",
    "dir = '/home/user/Документы/convnets/raw-img/butterflies/'\n",
    "error_counter = 0\n",
    "images = os.listdir(dir)\n",
    "\n",
    "i = 1\n",
    "for filename in images:\n",
    "    older = dir + filename\n",
    "    new_name = \"butterfly\" + str(i) + \".jpg\"\n",
    "    newer = dir + new_name\n",
    "    os.rename(older, newer)\n",
    "    i += 1"
   ]
  },
  {
   "cell_type": "code",
   "execution_count": null,
   "metadata": {},
   "outputs": [],
   "source": []
  }
 ],
 "metadata": {
  "kernelspec": {
   "display_name": "Python 3",
   "language": "python",
   "name": "python3"
  },
  "language_info": {
   "codemirror_mode": {
    "name": "ipython",
    "version": 3
   },
   "file_extension": ".py",
   "mimetype": "text/x-python",
   "name": "python",
   "nbconvert_exporter": "python",
   "pygments_lexer": "ipython3",
   "version": "3.7.6"
  }
 },
 "nbformat": 4,
 "nbformat_minor": 2
}
